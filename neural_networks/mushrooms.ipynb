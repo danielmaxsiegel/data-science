{
  "nbformat": 4,
  "nbformat_minor": 0,
  "metadata": {
    "colab": {
      "name": "mushroom.py",
      "provenance": [],
      "collapsed_sections": []
    },
    "kernelspec": {
      "name": "python3",
      "display_name": "Python 3"
    },
    "language_info": {
      "name": "python"
    },
    "accelerator": "GPU"
  },
  "cells": [
    {
      "cell_type": "markdown",
      "source": [
        "# Mushroom Classification\n",
        "\n",
        "Attempting to create a sequential neural network trained on the [Mushroom Classification dataset from Kaggle](https://www.kaggle.com/uciml/mushroom-classification) to see if we can determine a mushroom's odor based on its other factors."
      ],
      "metadata": {
        "id": "WCgNG6uI1-OE"
      }
    },
    {
      "cell_type": "code",
      "execution_count": 1,
      "metadata": {
        "id": "xB1Z7_nv5BiM"
      },
      "outputs": [],
      "source": [
        "import numpy as np\n",
        "import pandas as pd\n",
        "import matplotlib.pyplot as plt\n",
        "from sklearn.preprocessing import LabelEncoder\n",
        "from keras.utils import np_utils\n",
        "from keras.utils.np_utils import to_categorical\n",
        "from sklearn import preprocessing, model_selection\n",
        "from keras.models import Sequential, load_model \n",
        "from keras.layers import Dense\n",
        "from tensorflow.keras.callbacks import ModelCheckpoint\n",
        "from sklearn.metrics import confusion_matrix"
      ]
    },
    {
      "cell_type": "code",
      "source": [
        "# import data\n",
        "data = pd.read_csv('/content/drive/MyDrive/ML/GBC/DL1/week2/mushrooms.csv')\n",
        "\n",
        "X = data\n",
        "X = X.drop('odor', axis=1)\n",
        "Y = data[['odor']]"
      ],
      "metadata": {
        "id": "GVja6dnW5ch4"
      },
      "execution_count": 2,
      "outputs": []
    },
    {
      "cell_type": "code",
      "source": [
        "data[['odor']].value_counts()"
      ],
      "metadata": {
        "colab": {
          "base_uri": "https://localhost:8080/"
        },
        "id": "lQVYyDnNC4gD",
        "outputId": "49008708-6798-4d61-8dd6-a89fc2f7cdd8"
      },
      "execution_count": 3,
      "outputs": [
        {
          "output_type": "execute_result",
          "data": {
            "text/plain": [
              "odor\n",
              "n       3528\n",
              "f       2160\n",
              "y        576\n",
              "s        576\n",
              "l        400\n",
              "a        400\n",
              "p        256\n",
              "c        192\n",
              "m         36\n",
              "dtype: int64"
            ]
          },
          "metadata": {},
          "execution_count": 3
        }
      ]
    },
    {
      "cell_type": "code",
      "source": [
        "data.info()"
      ],
      "metadata": {
        "colab": {
          "base_uri": "https://localhost:8080/"
        },
        "id": "mVVR6791558E",
        "outputId": "9f9434ba-3a30-4f2d-a933-83bf22f5f27e"
      },
      "execution_count": 4,
      "outputs": [
        {
          "output_type": "stream",
          "name": "stdout",
          "text": [
            "<class 'pandas.core.frame.DataFrame'>\n",
            "RangeIndex: 8124 entries, 0 to 8123\n",
            "Data columns (total 23 columns):\n",
            " #   Column                    Non-Null Count  Dtype \n",
            "---  ------                    --------------  ----- \n",
            " 0   class                     8124 non-null   object\n",
            " 1   cap-shape                 8124 non-null   object\n",
            " 2   cap-surface               8124 non-null   object\n",
            " 3   cap-color                 8124 non-null   object\n",
            " 4   bruises                   8124 non-null   object\n",
            " 5   odor                      8124 non-null   object\n",
            " 6   gill-attachment           8124 non-null   object\n",
            " 7   gill-spacing              8124 non-null   object\n",
            " 8   gill-size                 8124 non-null   object\n",
            " 9   gill-color                8124 non-null   object\n",
            " 10  stalk-shape               8124 non-null   object\n",
            " 11  stalk-root                8124 non-null   object\n",
            " 12  stalk-surface-above-ring  8124 non-null   object\n",
            " 13  stalk-surface-below-ring  8124 non-null   object\n",
            " 14  stalk-color-above-ring    8124 non-null   object\n",
            " 15  stalk-color-below-ring    8124 non-null   object\n",
            " 16  veil-type                 8124 non-null   object\n",
            " 17  veil-color                8124 non-null   object\n",
            " 18  ring-number               8124 non-null   object\n",
            " 19  ring-type                 8124 non-null   object\n",
            " 20  spore-print-color         8124 non-null   object\n",
            " 21  population                8124 non-null   object\n",
            " 22  habitat                   8124 non-null   object\n",
            "dtypes: object(23)\n",
            "memory usage: 1.4+ MB\n"
          ]
        }
      ]
    },
    {
      "cell_type": "code",
      "source": [
        "def label_encode_features(df):\n",
        "  ret = df\n",
        "\n",
        "  for col_name in ret:\n",
        "    label_encoder = LabelEncoder()\n",
        "    label_encoder.fit(ret[col_name])\n",
        "    ret[col_name] = label_encoder.transform(ret[col_name])\n",
        "\n",
        "  return ret\n",
        "\n",
        "X_encoded = label_encode_features(X)"
      ],
      "metadata": {
        "id": "JAOeR3zp7Zji"
      },
      "execution_count": 5,
      "outputs": []
    },
    {
      "cell_type": "code",
      "source": [
        "Y_encoder = LabelEncoder()\n",
        "Y_encoder.fit(Y)\n",
        "Y_encoder_name_mapping = dict(zip(Y_encoder.classes_, Y_encoder.transform(Y_encoder.classes_)))\n",
        "\n",
        "Y_encoded = Y_encoder.transform(Y)\n",
        "class_order = Y_encoded\n",
        "Y_encoded = np_utils.to_categorical(Y_encoded)"
      ],
      "metadata": {
        "colab": {
          "base_uri": "https://localhost:8080/"
        },
        "id": "Nc4R-G-t9EzV",
        "outputId": "ad349814-c480-49b5-8a75-3c6e3c279f69"
      },
      "execution_count": 6,
      "outputs": [
        {
          "output_type": "stream",
          "name": "stderr",
          "text": [
            "/usr/local/lib/python3.7/dist-packages/sklearn/preprocessing/_label.py:98: DataConversionWarning: A column-vector y was passed when a 1d array was expected. Please change the shape of y to (n_samples, ), for example using ravel().\n",
            "  y = column_or_1d(y, warn=True)\n",
            "/usr/local/lib/python3.7/dist-packages/sklearn/preprocessing/_label.py:133: DataConversionWarning: A column-vector y was passed when a 1d array was expected. Please change the shape of y to (n_samples, ), for example using ravel().\n",
            "  y = column_or_1d(y, warn=True)\n"
          ]
        }
      ]
    },
    {
      "cell_type": "code",
      "source": [
        "# split data\n",
        "train_x, test_x, train_y, test_y = model_selection.train_test_split(\n",
        "  X_encoded,\n",
        "  Y_encoded,\n",
        "  test_size = 0.2,\n",
        "  random_state = 42\n",
        ")"
      ],
      "metadata": {
        "id": "mnf2JEqq9e8f"
      },
      "execution_count": 7,
      "outputs": []
    },
    {
      "cell_type": "code",
      "source": [
        "# %% NN architecture\n",
        "input_dim = train_x.shape[1]\n",
        "\n",
        "model = Sequential()\n",
        "model.add(Dense(8, input_dim = input_dim , activation = 'relu'))\n",
        "model.add(Dense(10, activation = 'relu'))\n",
        "model.add(Dense(10, activation = 'relu'))\n",
        "model.add(Dense(10, activation = 'relu'))\n",
        "model.add(Dense(9, activation = 'softmax'))\n",
        "\n",
        "model.compile(loss = 'categorical_crossentropy' , optimizer = 'adam' , metrics = ['accuracy'] )"
      ],
      "metadata": {
        "id": "J72XpnPu9pm0"
      },
      "execution_count": 8,
      "outputs": []
    },
    {
      "cell_type": "code",
      "source": [
        "# %% NN training\n",
        "model.summary() # model architecture\n",
        "checkpointer = ModelCheckpoint(filepath=\"weights.hdf5\", monitor = 'val_accuracy', verbose=1, save_best_only=True) # save model's best weights\n",
        "\n",
        "history = model.fit(\n",
        "  train_x, \n",
        "  train_y, \n",
        "  epochs=30, \n",
        "  batch_size=2, \n",
        "  callbacks = [checkpointer], \n",
        "  validation_data = (test_x, test_y)\n",
        ")\n",
        "\n",
        "model_name = \"mushrooms.h5\"\n",
        "model.save(model_name)\n",
        "model = load_model(model_name)"
      ],
      "metadata": {
        "colab": {
          "base_uri": "https://localhost:8080/"
        },
        "id": "NcFMwC1T-DNl",
        "outputId": "0293bce9-4399-4990-f965-9cb2492a39ec"
      },
      "execution_count": 9,
      "outputs": [
        {
          "output_type": "stream",
          "name": "stdout",
          "text": [
            "Model: \"sequential\"\n",
            "_________________________________________________________________\n",
            " Layer (type)                Output Shape              Param #   \n",
            "=================================================================\n",
            " dense (Dense)               (None, 8)                 184       \n",
            "                                                                 \n",
            " dense_1 (Dense)             (None, 10)                90        \n",
            "                                                                 \n",
            " dense_2 (Dense)             (None, 10)                110       \n",
            "                                                                 \n",
            " dense_3 (Dense)             (None, 10)                110       \n",
            "                                                                 \n",
            " dense_4 (Dense)             (None, 9)                 99        \n",
            "                                                                 \n",
            "=================================================================\n",
            "Total params: 593\n",
            "Trainable params: 593\n",
            "Non-trainable params: 0\n",
            "_________________________________________________________________\n",
            "Epoch 1/30\n",
            "3242/3250 [============================>.] - ETA: 0s - loss: 0.9345 - accuracy: 0.6760\n",
            "Epoch 00001: val_accuracy improved from -inf to 0.75200, saving model to weights.hdf5\n",
            "3250/3250 [==============================] - 11s 3ms/step - loss: 0.9333 - accuracy: 0.6763 - val_loss: 0.5110 - val_accuracy: 0.7520\n",
            "Epoch 2/30\n",
            "3243/3250 [============================>.] - ETA: 0s - loss: 0.4213 - accuracy: 0.7771\n",
            "Epoch 00002: val_accuracy improved from 0.75200 to 0.79754, saving model to weights.hdf5\n",
            "3250/3250 [==============================] - 10s 3ms/step - loss: 0.4216 - accuracy: 0.7767 - val_loss: 0.3613 - val_accuracy: 0.7975\n",
            "Epoch 3/30\n",
            "3235/3250 [============================>.] - ETA: 0s - loss: 0.3539 - accuracy: 0.7989\n",
            "Epoch 00003: val_accuracy improved from 0.79754 to 0.80923, saving model to weights.hdf5\n",
            "3250/3250 [==============================] - 11s 3ms/step - loss: 0.3536 - accuracy: 0.7990 - val_loss: 0.3223 - val_accuracy: 0.8092\n",
            "Epoch 4/30\n",
            "3239/3250 [============================>.] - ETA: 0s - loss: 0.3362 - accuracy: 0.8058\n",
            "Epoch 00004: val_accuracy improved from 0.80923 to 0.81538, saving model to weights.hdf5\n",
            "3250/3250 [==============================] - 10s 3ms/step - loss: 0.3362 - accuracy: 0.8055 - val_loss: 0.3071 - val_accuracy: 0.8154\n",
            "Epoch 5/30\n",
            "3236/3250 [============================>.] - ETA: 0s - loss: 0.3254 - accuracy: 0.8047\n",
            "Epoch 00005: val_accuracy did not improve from 0.81538\n",
            "3250/3250 [==============================] - 11s 3ms/step - loss: 0.3253 - accuracy: 0.8046 - val_loss: 0.3041 - val_accuracy: 0.8043\n",
            "Epoch 6/30\n",
            "3236/3250 [============================>.] - ETA: 0s - loss: 0.3176 - accuracy: 0.8053\n",
            "Epoch 00006: val_accuracy did not improve from 0.81538\n",
            "3250/3250 [==============================] - 11s 3ms/step - loss: 0.3181 - accuracy: 0.8047 - val_loss: 0.3021 - val_accuracy: 0.8117\n",
            "Epoch 7/30\n",
            "3247/3250 [============================>.] - ETA: 0s - loss: 0.3162 - accuracy: 0.8106\n",
            "Epoch 00007: val_accuracy did not improve from 0.81538\n",
            "3250/3250 [==============================] - 10s 3ms/step - loss: 0.3162 - accuracy: 0.8106 - val_loss: 0.3169 - val_accuracy: 0.8111\n",
            "Epoch 8/30\n",
            "3231/3250 [============================>.] - ETA: 0s - loss: 0.3151 - accuracy: 0.8103\n",
            "Epoch 00008: val_accuracy did not improve from 0.81538\n",
            "3250/3250 [==============================] - 11s 3ms/step - loss: 0.3143 - accuracy: 0.8107 - val_loss: 0.3027 - val_accuracy: 0.8105\n",
            "Epoch 9/30\n",
            "3241/3250 [============================>.] - ETA: 0s - loss: 0.3132 - accuracy: 0.7987\n",
            "Epoch 00009: val_accuracy did not improve from 0.81538\n",
            "3250/3250 [==============================] - 11s 3ms/step - loss: 0.3134 - accuracy: 0.7987 - val_loss: 0.3095 - val_accuracy: 0.8105\n",
            "Epoch 10/30\n",
            "3232/3250 [============================>.] - ETA: 0s - loss: 0.3138 - accuracy: 0.8086\n",
            "Epoch 00010: val_accuracy did not improve from 0.81538\n",
            "3250/3250 [==============================] - 10s 3ms/step - loss: 0.3142 - accuracy: 0.8086 - val_loss: 0.3002 - val_accuracy: 0.8092\n",
            "Epoch 11/30\n",
            "3246/3250 [============================>.] - ETA: 0s - loss: 0.3092 - accuracy: 0.8065\n",
            "Epoch 00011: val_accuracy did not improve from 0.81538\n",
            "3250/3250 [==============================] - 11s 3ms/step - loss: 0.3094 - accuracy: 0.8063 - val_loss: 0.2989 - val_accuracy: 0.8037\n",
            "Epoch 12/30\n",
            "3245/3250 [============================>.] - ETA: 0s - loss: 0.3087 - accuracy: 0.8066\n",
            "Epoch 00012: val_accuracy did not improve from 0.81538\n",
            "3250/3250 [==============================] - 10s 3ms/step - loss: 0.3085 - accuracy: 0.8069 - val_loss: 0.2986 - val_accuracy: 0.8092\n",
            "Epoch 13/30\n",
            "3240/3250 [============================>.] - ETA: 0s - loss: 0.3073 - accuracy: 0.8085\n",
            "Epoch 00013: val_accuracy did not improve from 0.81538\n",
            "3250/3250 [==============================] - 10s 3ms/step - loss: 0.3076 - accuracy: 0.8084 - val_loss: 0.3037 - val_accuracy: 0.8025\n",
            "Epoch 14/30\n",
            "3235/3250 [============================>.] - ETA: 0s - loss: 0.3134 - accuracy: 0.8048\n",
            "Epoch 00014: val_accuracy did not improve from 0.81538\n",
            "3250/3250 [==============================] - 11s 3ms/step - loss: 0.3131 - accuracy: 0.8049 - val_loss: 0.3040 - val_accuracy: 0.8031\n",
            "Epoch 15/30\n",
            "3243/3250 [============================>.] - ETA: 0s - loss: 0.3093 - accuracy: 0.8105\n",
            "Epoch 00015: val_accuracy did not improve from 0.81538\n",
            "3250/3250 [==============================] - 10s 3ms/step - loss: 0.3089 - accuracy: 0.8107 - val_loss: 0.3003 - val_accuracy: 0.8154\n",
            "Epoch 16/30\n",
            "3231/3250 [============================>.] - ETA: 0s - loss: 0.3118 - accuracy: 0.7977\n",
            "Epoch 00016: val_accuracy did not improve from 0.81538\n",
            "3250/3250 [==============================] - 11s 4ms/step - loss: 0.3112 - accuracy: 0.7981 - val_loss: 0.3027 - val_accuracy: 0.8043\n",
            "Epoch 17/30\n",
            "3235/3250 [============================>.] - ETA: 0s - loss: 0.3052 - accuracy: 0.8130\n",
            "Epoch 00017: val_accuracy did not improve from 0.81538\n",
            "3250/3250 [==============================] - 11s 3ms/step - loss: 0.3055 - accuracy: 0.8130 - val_loss: 0.3005 - val_accuracy: 0.8111\n",
            "Epoch 18/30\n",
            "3248/3250 [============================>.] - ETA: 0s - loss: 0.3110 - accuracy: 0.8076\n",
            "Epoch 00018: val_accuracy did not improve from 0.81538\n",
            "3250/3250 [==============================] - 10s 3ms/step - loss: 0.3109 - accuracy: 0.8077 - val_loss: 0.2994 - val_accuracy: 0.8037\n",
            "Epoch 19/30\n",
            "3250/3250 [==============================] - ETA: 0s - loss: 0.3110 - accuracy: 0.8078\n",
            "Epoch 00019: val_accuracy did not improve from 0.81538\n",
            "3250/3250 [==============================] - 11s 3ms/step - loss: 0.3110 - accuracy: 0.8078 - val_loss: 0.2998 - val_accuracy: 0.8043\n",
            "Epoch 20/30\n",
            "3249/3250 [============================>.] - ETA: 0s - loss: 0.3094 - accuracy: 0.8049\n",
            "Epoch 00020: val_accuracy did not improve from 0.81538\n",
            "3250/3250 [==============================] - 10s 3ms/step - loss: 0.3095 - accuracy: 0.8049 - val_loss: 0.4018 - val_accuracy: 0.7982\n",
            "Epoch 21/30\n",
            "3237/3250 [============================>.] - ETA: 0s - loss: 0.3079 - accuracy: 0.8061\n",
            "Epoch 00021: val_accuracy did not improve from 0.81538\n",
            "3250/3250 [==============================] - 11s 3ms/step - loss: 0.3081 - accuracy: 0.8061 - val_loss: 0.2980 - val_accuracy: 0.8105\n",
            "Epoch 22/30\n",
            "3247/3250 [============================>.] - ETA: 0s - loss: 0.3117 - accuracy: 0.8049\n",
            "Epoch 00022: val_accuracy did not improve from 0.81538\n",
            "3250/3250 [==============================] - 11s 3ms/step - loss: 0.3115 - accuracy: 0.8050 - val_loss: 0.3009 - val_accuracy: 0.8062\n",
            "Epoch 23/30\n",
            "3244/3250 [============================>.] - ETA: 0s - loss: 0.3045 - accuracy: 0.8086\n",
            "Epoch 00023: val_accuracy did not improve from 0.81538\n",
            "3250/3250 [==============================] - 10s 3ms/step - loss: 0.3049 - accuracy: 0.8081 - val_loss: 0.3021 - val_accuracy: 0.8031\n",
            "Epoch 24/30\n",
            "3240/3250 [============================>.] - ETA: 0s - loss: 0.3091 - accuracy: 0.8093\n",
            "Epoch 00024: val_accuracy did not improve from 0.81538\n",
            "3250/3250 [==============================] - 10s 3ms/step - loss: 0.3087 - accuracy: 0.8095 - val_loss: 0.2983 - val_accuracy: 0.8018\n",
            "Epoch 25/30\n",
            "3235/3250 [============================>.] - ETA: 0s - loss: 0.3121 - accuracy: 0.8065\n",
            "Epoch 00025: val_accuracy did not improve from 0.81538\n",
            "3250/3250 [==============================] - 10s 3ms/step - loss: 0.3123 - accuracy: 0.8063 - val_loss: 0.2975 - val_accuracy: 0.8117\n",
            "Epoch 26/30\n",
            "3248/3250 [============================>.] - ETA: 0s - loss: 0.3055 - accuracy: 0.8060\n",
            "Epoch 00026: val_accuracy did not improve from 0.81538\n",
            "3250/3250 [==============================] - 10s 3ms/step - loss: 0.3053 - accuracy: 0.8061 - val_loss: 0.2985 - val_accuracy: 0.8154\n",
            "Epoch 27/30\n",
            "3236/3250 [============================>.] - ETA: 0s - loss: 0.3128 - accuracy: 0.8090\n",
            "Epoch 00027: val_accuracy did not improve from 0.81538\n",
            "3250/3250 [==============================] - 10s 3ms/step - loss: 0.3128 - accuracy: 0.8089 - val_loss: 0.2999 - val_accuracy: 0.8098\n",
            "Epoch 28/30\n",
            "3236/3250 [============================>.] - ETA: 0s - loss: 0.3041 - accuracy: 0.8079\n",
            "Epoch 00028: val_accuracy did not improve from 0.81538\n",
            "3250/3250 [==============================] - 10s 3ms/step - loss: 0.3046 - accuracy: 0.8077 - val_loss: 0.2976 - val_accuracy: 0.8037\n",
            "Epoch 29/30\n",
            "3249/3250 [============================>.] - ETA: 0s - loss: 0.3097 - accuracy: 0.8041\n",
            "Epoch 00029: val_accuracy did not improve from 0.81538\n",
            "3250/3250 [==============================] - 12s 4ms/step - loss: 0.3098 - accuracy: 0.8040 - val_loss: 0.2991 - val_accuracy: 0.8049\n",
            "Epoch 30/30\n",
            "3236/3250 [============================>.] - ETA: 0s - loss: 0.3054 - accuracy: 0.8036\n",
            "Epoch 00030: val_accuracy did not improve from 0.81538\n",
            "3250/3250 [==============================] - 11s 4ms/step - loss: 0.3050 - accuracy: 0.8037 - val_loss: 0.2984 - val_accuracy: 0.7988\n"
          ]
        }
      ]
    },
    {
      "cell_type": "code",
      "source": [
        "# %% Predictions\n",
        "\n",
        "y_pred = model.predict(test_x)\n",
        "y_pred = np.argmax(y_pred, axis = 1)\n",
        "y_pred = Y_encoder.inverse_transform(y_pred)\n",
        "\n",
        "Y = np.argmax(Y, axis = 1) \n",
        "Y = Y_encoder.inverse_transform(Y)\n",
        "\n",
        "test_y = np.argmax(test_y, axis = 1) \n",
        "test_y = Y_encoder.inverse_transform(test_y)\n",
        "\n",
        "print(\"\\nHistory Keys:\\n\")\n",
        "print(history.history.keys())\n",
        "\n",
        "plt.subplots() # open a new plot\n",
        "plt.plot(history.history['accuracy'])\n",
        "plt.plot(history.history['val_accuracy'])\n",
        "plt.title('model accuracy')\n",
        "plt.ylabel('accuracy')\n",
        "plt.xlabel('epoch')\n",
        "plt.legend(['train', 'validation'])\n",
        "plt.show()\n",
        "\n",
        "plt.subplots() # open a new plot\n",
        "plt.plot(history.history['loss'])\n",
        "plt.plot(history.history['val_loss'])\n",
        "plt.title('model loss')\n",
        "plt.ylabel('loss')\n",
        "plt.xlabel('epoch')\n",
        "plt.legend(['train', 'validation'])\n",
        "plt.show()"
      ],
      "metadata": {
        "colab": {
          "base_uri": "https://localhost:8080/",
          "height": 703
        },
        "id": "eYBdoeAq-LnV",
        "outputId": "dd1587cf-d239-4f65-99a3-25f536e66e06"
      },
      "execution_count": 10,
      "outputs": [
        {
          "output_type": "stream",
          "name": "stdout",
          "text": [
            "\n",
            "History Keys:\n",
            "\n",
            "dict_keys(['loss', 'accuracy', 'val_loss', 'val_accuracy'])\n"
          ]
        },
        {
          "output_type": "stream",
          "name": "stderr",
          "text": [
            "/usr/local/lib/python3.7/dist-packages/sklearn/preprocessing/_label.py:154: DataConversionWarning: A column-vector y was passed when a 1d array was expected. Please change the shape of y to (n_samples, ), for example using ravel().\n",
            "  y = column_or_1d(y, warn=True)\n"
          ]
        },
        {
          "output_type": "display_data",
          "data": {
            "image/png": "[encoded data removed]",
            "text/plain": [
              "<Figure size 432x288 with 1 Axes>"
            ]
          },
          "metadata": {
            "needs_background": "light"
          }
        },
        {
          "output_type": "display_data",
          "data": {
            "image/png": "[encoded data removed]",
            "text/plain": [
              "<Figure size 432x288 with 1 Axes>"
            ]
          },
          "metadata": {
            "needs_background": "light"
          }
        }
      ]
    },
    {
      "cell_type": "markdown",
      "source": [
        "odors:\n",
        "- almond=a\n",
        "- anise=l\n",
        "- creosote=c\n",
        "- fishy=y\n",
        "- foul=f\n",
        "- musty=m\n",
        "- none=n\n",
        "- pungent=p\n",
        "- spicy=s"
      ],
      "metadata": {
        "id": "_hwaivdW-3l5"
      }
    },
    {
      "cell_type": "code",
      "source": [
        "cm = confusion_matrix(y_pred, test_y)\n",
        "cm"
      ],
      "metadata": {
        "colab": {
          "base_uri": "https://localhost:8080/"
        },
        "id": "7GZgqKzKAmaq",
        "outputId": "6c036a09-a9d5-4e6c-a547-ad675f0357ef"
      },
      "execution_count": 11,
      "outputs": [
        {
          "output_type": "execute_result",
          "data": {
            "text/plain": [
              "array([[ 36,   0,   0,  55,   0,   0,   0,   0,   0],\n",
              "       [  0,  37,   0,   0,   0,   0,   0,   0,   0],\n",
              "       [  0,   0, 430,   0,   0,   0,   0, 105, 123],\n",
              "       [ 44,   0,   0,  38,   0,   0,   0,   0,   0],\n",
              "       [  0,   0,   0,   0,   5,   0,   0,   0,   0],\n",
              "       [  0,   0,   0,   0,   0, 695,   0,   0,   0],\n",
              "       [  0,   0,   0,   0,   0,   0,  57,   0,   0],\n",
              "       [  0,   0,   0,   0,   0,   0,   0,   0,   0],\n",
              "       [  0,   0,   0,   0,   0,   0,   0,   0,   0]])"
            ]
          },
          "metadata": {},
          "execution_count": 11
        }
      ]
    },
    {
      "cell_type": "markdown",
      "source": [
        "## Visualizing the confusion matrix\n",
        "\n",
        "Remembering the counts of classes from before:\n",
        "\n",
        "- n (none) = 3528\n",
        "- f (foul) = 2160\n",
        "- y (fishy) = 576\n",
        "- s (spicy) = 576\n",
        "- l (anise) = 400\n",
        "- a (almond) = 400\n",
        "- p (pungent) = 256\n",
        "- c (creosote) = 192\n",
        "- m (musty) = 36"
      ],
      "metadata": {
        "id": "CtFBo3Jg1Rp8"
      }
    },
    {
      "cell_type": "markdown",
      "source": [
        ""
      ],
      "metadata": {
        "id": "Cnr5XIa9FlzQ"
      }
    },
    {
      "cell_type": "code",
      "source": [
        "import seaborn as sns\n",
        "\n",
        "ax = plt.subplot()\n",
        "sns.heatmap(cm, annot=True, fmt='g', ax=ax);  #annot=True to annotate cells, ftm='g' to disable scientific notation\n",
        "\n",
        "# labels, title and ticks\n",
        "ax.set_xlabel('Predicted labels');ax.set_ylabel('True labels'); \n",
        "ax.set_title('Confusion Matrix'); \n",
        "ax.xaxis.set_ticklabels(Y_encoder_name_mapping); ax.yaxis.set_ticklabels(Y_encoder_name_mapping);"
      ],
      "metadata": {
        "colab": {
          "base_uri": "https://localhost:8080/",
          "height": 295
        },
        "id": "mMViGYdrAlcK",
        "outputId": "7898424c-19c4-471d-8a8f-8d3bdbf3cc8f"
      },
      "execution_count": 12,
      "outputs": [
        {
          "output_type": "display_data",
          "data": {
            "image/png": "[encoded data removed]",
            "text/plain": [
              "<Figure size 432x288 with 2 Axes>"
            ]
          },
          "metadata": {
            "needs_background": "light"
          }
        }
      ]
    }
  ]
}