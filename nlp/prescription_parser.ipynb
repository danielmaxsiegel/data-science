{
  "nbformat": 4,
  "nbformat_minor": 0,
  "metadata": {
    "kernelspec": {
      "name": "python3",
      "display_name": "Python 3"
    },
    "colab": {
      "name": "prescription_parser.ipynb",
      "provenance": [],
      "collapsed_sections": []
    },
    "language_info": {
      "name": "python"
    }
  },
  "cells": [
    {
      "cell_type": "markdown",
      "metadata": {
        "id": "T_6gu_2QWK4N"
      },
      "source": [
        "# Prescription Parser using CRF\n",
        "A Prescription Parser that takes a prescription (sentence) as an input and find / label the words in that sentence with one of the already pre-defined labels\n",
        "\n",
        "#### Input : Doctor Prescription in the form of a sentence split into tokens\n",
        "- Ex: Take 2 tablets once a day for 10 days\n",
        "\n",
        "#### Output : FHIR Labels\n",
        "('Take', 'Method') = ('2', 'Qty') \n",
        "\n",
        "('tablets', 'Form') = ('once', 'Frequency')\n",
        "\n",
        "('a', 'Period') = ('day', 'PeriodUnit')\n",
        "\n",
        "('10', 'Duration') = ('days', 'DurationUnit') "
      ]
    },
    {
      "cell_type": "markdown",
      "metadata": {
        "id": "3CRhBv5eWK4Q"
      },
      "source": [
        "#### Install necesaary library"
      ]
    },
    {
      "cell_type": "code",
      "source": [
        "!pip install sklearn_crfsuite"
      ],
      "metadata": {
        "colab": {
          "base_uri": "https://localhost:8080/"
        },
        "id": "Oz086qCrMvC4",
        "outputId": "ac68a6e6-cce0-4689-f1e7-4f04822c365d"
      },
      "execution_count": 1,
      "outputs": [
        {
          "output_type": "stream",
          "name": "stdout",
          "text": [
            "Requirement already satisfied: sklearn_crfsuite in /usr/local/lib/python3.7/dist-packages (0.3.6)\n",
            "Requirement already satisfied: tabulate in /usr/local/lib/python3.7/dist-packages (from sklearn_crfsuite) (0.8.9)\n",
            "Requirement already satisfied: six in /usr/local/lib/python3.7/dist-packages (from sklearn_crfsuite) (1.15.0)\n",
            "Requirement already satisfied: python-crfsuite>=0.8.3 in /usr/local/lib/python3.7/dist-packages (from sklearn_crfsuite) (0.9.7)\n",
            "Requirement already satisfied: tqdm>=2.0 in /usr/local/lib/python3.7/dist-packages (from sklearn_crfsuite) (4.62.3)\n"
          ]
        }
      ]
    },
    {
      "cell_type": "code",
      "metadata": {
        "id": "GJtIF-weWK4R",
        "colab": {
          "base_uri": "https://localhost:8080/"
        },
        "outputId": "733b2579-47d2-4caf-c1d4-2ef5645c7e12"
      },
      "source": [
        "import nltk\n",
        "nltk.download('averaged_perceptron_tagger')\n",
        "\n",
        "import numpy as np\n",
        "import pandas as pd\n",
        "\n",
        "from sklearn.model_selection import train_test_split\n"
      ],
      "execution_count": 2,
      "outputs": [
        {
          "output_type": "stream",
          "name": "stdout",
          "text": [
            "[nltk_data] Downloading package averaged_perceptron_tagger to\n",
            "[nltk_data]     /root/nltk_data...\n",
            "[nltk_data]   Package averaged_perceptron_tagger is already up-to-\n",
            "[nltk_data]       date!\n"
          ]
        }
      ]
    },
    {
      "cell_type": "markdown",
      "metadata": {
        "id": "cVmOv1J9WK4S"
      },
      "source": [
        "### Input data (GIVEN)\n",
        "#### Creating the inputs to the ML model in the following form:\n",
        "- sigs --> ['take 3 tabs for 10 days']       INPUT SIG\n",
        "- input_sigs --> [['take', '3', 'tabs', 'for', '10', 'days']]      TOKENS\n",
        "- output_labels --> [['Method','Qty', 'Form', 'FOR', 'Duration', 'DurationUnit']]       LABELS"
      ]
    },
    {
      "cell_type": "code",
      "metadata": {
        "id": "FQe8iAlqWK4S"
      },
      "source": [
        "sigs = [\"for 5 to 6 days\", \"inject 2 units\", \"x 2 weeks\", \"x 3 days\", \"every day\", \"every 2 weeks\", \"every 3 days\", \"every 1 to 2 months\", \"every 2 to 6 weeks\", \"every 4 to 6 days\", \"take two to four tabs\", \"take 2 to 4 tabs\", \"take 3 tabs orally bid for 10 days at bedtime\", \"swallow three capsules tid orally\", \"take 2 capsules po every 6 hours\", \"take 2 tabs po for 10 days\", \"take 100 caps by mouth tid for 10 weeks\", \"take 2 tabs after an hour\", \"2 tabs every 4-6 hours\", \"every 4 to 6 hours\", \"q46h\", \"q4-6h\", \"2 hours before breakfast\", \"before 30 mins at bedtime\", \"30 mins before bed\", \"and 100 tabs twice a month\", \"100 tabs twice a month\", \"100 tabs once a month\", \"100 tabs thrice a month\", \"3 tabs daily for 3 days then 1 tab per day at bed\", \"30 tabs 10 days tid\", \"take 30 tabs for 10 days three times a day\", \"qid q6h\", \"bid\", \"qid\", \"30 tabs before dinner and bedtime\", \"30 tabs before dinner & bedtime\", \"take 3 tabs at bedtime\", \"30 tabs thrice daily for 10 days \", \"30 tabs for 10 days three times a day\", \"Take 2 tablets a day\", \"qid for 10 days\", \"every day\", \"take 2 caps at bedtime\", \"apply 3 drops before bedtime\", \"take three capsules daily\", \"swallow 3 pills once a day\", \"swallow three pills thrice a day\", \"apply daily\", \"apply three drops before bedtime\", \"every 6 hours\", \"before food\", \"after food\", \"for 20 days\", \"for twenty days\", \"with meals\"]\n",
        "input_sigs = [['for', '5', 'to', '6', 'days'], ['inject', '2', 'units'], ['x', '2', 'weeks'], ['x', '3', 'days'], ['every', 'day'], ['every', '2', 'weeks'], ['every', '3', 'days'], ['every', '1', 'to', '2', 'months'], ['every', '2', 'to', '6', 'weeks'], ['every', '4', 'to', '6', 'days'], ['take', 'two', 'to', 'four', 'tabs'], ['take', '2', 'to', '4', 'tabs'], ['take', '3', 'tabs', 'orally', 'bid', 'for', '10', 'days', 'at', 'bedtime'], ['swallow', 'three', 'capsules', 'tid', 'orally'], ['take', '2', 'capsules', 'po', 'every', '6', 'hours'], ['take', '2', 'tabs', 'po', 'for', '10', 'days'], ['take', '100', 'caps', 'by', 'mouth', 'tid', 'for', '10', 'weeks'], ['take', '2', 'tabs', 'after', 'an', 'hour'], ['2', 'tabs', 'every', '4-6', 'hours'], ['every', '4', 'to', '6', 'hours'], ['q46h'], ['q4-6h'], ['2', 'hours', 'before', 'breakfast'], ['before', '30', 'mins', 'at', 'bedtime'], ['30', 'mins', 'before', 'bed'], ['and', '100', 'tabs', 'twice', 'a', 'month'], ['100', 'tabs', 'twice', 'a', 'month'], ['100', 'tabs', 'once', 'a', 'month'], ['100', 'tabs', 'thrice', 'a', 'month'], ['3', 'tabs', 'daily', 'for', '3', 'days', 'then', '1', 'tab', 'per', 'day', 'at', 'bed'], ['30', 'tabs', '10', 'days', 'tid'], ['take', '30', 'tabs', 'for', '10', 'days', 'three', 'times', 'a', 'day'], ['qid', 'q6h'], ['bid'], ['qid'], ['30', 'tabs', 'before', 'dinner', 'and', 'bedtime'], ['30', 'tabs', 'before', 'dinner', '&', 'bedtime'], ['take', '3', 'tabs', 'at', 'bedtime'], ['30', 'tabs', 'thrice', 'daily', 'for', '10', 'days'], ['30', 'tabs', 'for', '10', 'days', 'three', 'times', 'a', 'day'], ['take', '2', 'tablets', 'a', 'day'], ['qid', 'for', '10', 'days'], ['every', 'day'], ['take', '2', 'caps', 'at', 'bedtime'], ['apply', '3', 'drops', 'before', 'bedtime'], ['take', 'three', 'capsules', 'daily'], ['swallow', '3', 'pills', 'once', 'a', 'day'], ['swallow', 'three', 'pills', 'thrice', 'a', 'day'], ['apply', 'daily'], ['apply', 'three', 'drops', 'before', 'bedtime'], ['every', '6', 'hours'], ['before', 'food'], ['after', 'food'], ['for', '20', 'days'], ['for', 'twenty', 'days'], ['with', 'meals']]\n",
        "output_labels = [['FOR', 'Duration', 'TO', 'DurationMax', 'DurationUnit'], ['Method', 'Qty', 'Form'], ['FOR', 'Duration', 'DurationUnit'], ['FOR', 'Duration', 'DurationUnit'], ['EVERY', 'Period'], ['EVERY', 'Period', 'PeriodUnit'], ['EVERY', 'Period', 'PeriodUnit'], ['EVERY', 'Period', 'TO', 'PeriodMax', 'PeriodUnit'], ['EVERY', 'Period', 'TO', 'PeriodMax', 'PeriodUnit'], ['EVERY', 'Period', 'TO', 'PeriodMax', 'PeriodUnit'], ['Method', 'Qty', 'TO', 'Qty', 'Form'], ['Method', 'Qty', 'TO', 'Qty', 'Form'], ['Method', 'Qty', 'Form', 'PO', 'BID', 'FOR', 'Duration', 'DurationUnit', 'AT', 'WHEN'], ['Method', 'Qty', 'Form', 'TID', 'PO'], ['Method', 'Qty', 'Form', 'PO', 'EVERY', 'Period', 'PeriodUnit'], ['Method', 'Qty', 'Form', 'PO', 'FOR', 'Duration', 'DurationUnit'], ['Method', 'Qty', 'Form', 'BY', 'PO', 'TID', 'FOR', 'Duration', 'DurationUnit'], ['Method', 'Qty', 'Form', 'AFTER', 'Period', 'PeriodUnit'], ['Qty', 'Form', 'EVERY', 'Period', 'PeriodUnit'], ['EVERY', 'Period', 'TO', 'PeriodMax', 'PeriodUnit'], ['Q46H'], ['Q4-6H'], ['Qty', 'PeriodUnit', 'BEFORE', 'WHEN'], ['BEFORE', 'Qty', 'M', 'AT', 'WHEN'], ['Qty', 'M', 'BEFORE', 'WHEN'], ['AND', 'Qty', 'Form', 'Frequency', 'Period', 'PeriodUnit'], ['Qty', 'Form', 'Frequency', 'Period', 'PeriodUnit'], ['Qty', 'Form', 'Frequency', 'Period', 'PeriodUnit'], ['Qty', 'Form', 'Frequency', 'Period', 'PeriodUnit'], ['Qty', 'Form', 'Frequency', 'FOR', 'Duration', 'DurationUnit', 'THEN', 'Qty', 'Form', 'Frequency', 'PeriodUnit', 'AT', 'WHEN'], ['Qty', 'Form', 'Duration', 'DurationUnit', 'TID'], ['Method', 'Qty', 'Form', 'FOR', 'Duration', 'DurationUnit', 'Qty', 'TIMES', 'Period', 'PeriodUnit'], ['QID', 'Q6H'], ['BID'], ['QID'],['Qty', 'Form', 'BEFORE', 'WHEN', 'AND', 'WHEN'], ['Qty', 'Form', 'BEFORE', 'WHEN', 'AND', 'WHEN'], ['Method', 'Qty', 'Form', 'AT', 'WHEN'], ['Qty', 'Form', 'Frequency', 'DAILY', 'FOR', 'Duration', 'DurationUnit'], ['Qty', 'Form', 'FOR', 'Duration', 'DurationUnit', 'Frequency', 'TIMES', 'Period', 'PeriodUnit'], ['Method', 'Qty', 'Form', 'Period', 'PeriodUnit'], ['QID', 'FOR', 'Duration', 'DurationUnit'], ['EVERY', 'PeriodUnit'], ['Method', 'Qty', 'Form', 'AT', 'WHEN'], ['Method', 'Qty', 'Form', 'BEFORE', 'WHEN'], ['Method', 'Qty', 'Form', 'DAILY'], ['Method', 'Qty', 'Form', 'Frequency', 'Period', 'PeriodUnit'], ['Method', 'Qty', 'Form', 'Frequency', 'Period', 'PeriodUnit'], ['Method', 'DAILY'], ['Method', 'Qty', 'Form', 'BEFORE', 'WHEN'], ['EVERY', 'Period', 'PeriodUnit'], ['BEFORE', 'FOOD'], ['AFTER', 'FOOD'], ['FOR', 'Duration', 'DurationUnit'], ['FOR', 'Duration', 'DurationUnit'], ['WITH', 'FOOD']]"
      ],
      "execution_count": 3,
      "outputs": []
    },
    {
      "cell_type": "code",
      "metadata": {
        "colab": {
          "base_uri": "https://localhost:8080/"
        },
        "id": "PM1ikmTqWK4T",
        "outputId": "e9c4985d-cd1d-42e3-ab3e-29f9f8a12a50"
      },
      "source": [
        "len(sigs), len(input_sigs) , len(output_labels)"
      ],
      "execution_count": 4,
      "outputs": [
        {
          "output_type": "execute_result",
          "data": {
            "text/plain": [
              "(56, 56, 56)"
            ]
          },
          "metadata": {},
          "execution_count": 4
        }
      ]
    },
    {
      "cell_type": "markdown",
      "metadata": {
        "id": "S8CUUpW8WK4V"
      },
      "source": [
        "### Creating a Tuples Maker method\n",
        "Create the tuples as given below by writing a function **tuples_maker(input_sigs, output_labels)** and returns **output** as given below\n",
        "\n",
        "Input(s): \n",
        "- input_sigs\n",
        "- output_lables\n",
        "\n",
        "Output:\n",
        "\n",
        "[[('for', 'FOR'),\n",
        "  ('5', 'Duration'),\n",
        "  ('to', 'TO'),\n",
        "  ('6', 'DurationMax'),\n",
        "  ('days', 'DurationUnit')], [second sentence], ...]"
      ]
    },
    {
      "cell_type": "code",
      "metadata": {
        "id": "l1qMHHMBWK4V"
      },
      "source": [
        "def tuples_maker(inp, out):\n",
        "  sample_data = []\n",
        "  sentences = zip(inp, out)\n",
        "  sentences = list(sentences)\n",
        "  for sentence in sentences:\n",
        "    new_tuples = list(zip(sentence[0], sentence[1]))\n",
        "    sample_data.append(new_tuples)\n",
        "  return sample_data"
      ],
      "execution_count": 5,
      "outputs": []
    },
    {
      "cell_type": "code",
      "metadata": {
        "colab": {
          "base_uri": "https://localhost:8080/"
        },
        "id": "Xjz9ye32k0_v",
        "outputId": "4d9cbd2e-2a1d-44b9-cf47-aa8c09e30f51"
      },
      "source": [
        "tuples_maker_output = tuples_maker(input_sigs, output_labels)\n",
        "tuples_maker_output"
      ],
      "execution_count": 6,
      "outputs": [
        {
          "output_type": "execute_result",
          "data": {
            "text/plain": [
              "[[('for', 'FOR'),\n",
              "  ('5', 'Duration'),\n",
              "  ('to', 'TO'),\n",
              "  ('6', 'DurationMax'),\n",
              "  ('days', 'DurationUnit')],\n",
              " [('inject', 'Method'), ('2', 'Qty'), ('units', 'Form')],\n",
              " [('x', 'FOR'), ('2', 'Duration'), ('weeks', 'DurationUnit')],\n",
              " [('x', 'FOR'), ('3', 'Duration'), ('days', 'DurationUnit')],\n",
              " [('every', 'EVERY'), ('day', 'Period')],\n",
              " [('every', 'EVERY'), ('2', 'Period'), ('weeks', 'PeriodUnit')],\n",
              " [('every', 'EVERY'), ('3', 'Period'), ('days', 'PeriodUnit')],\n",
              " [('every', 'EVERY'),\n",
              "  ('1', 'Period'),\n",
              "  ('to', 'TO'),\n",
              "  ('2', 'PeriodMax'),\n",
              "  ('months', 'PeriodUnit')],\n",
              " [('every', 'EVERY'),\n",
              "  ('2', 'Period'),\n",
              "  ('to', 'TO'),\n",
              "  ('6', 'PeriodMax'),\n",
              "  ('weeks', 'PeriodUnit')],\n",
              " [('every', 'EVERY'),\n",
              "  ('4', 'Period'),\n",
              "  ('to', 'TO'),\n",
              "  ('6', 'PeriodMax'),\n",
              "  ('days', 'PeriodUnit')],\n",
              " [('take', 'Method'),\n",
              "  ('two', 'Qty'),\n",
              "  ('to', 'TO'),\n",
              "  ('four', 'Qty'),\n",
              "  ('tabs', 'Form')],\n",
              " [('take', 'Method'),\n",
              "  ('2', 'Qty'),\n",
              "  ('to', 'TO'),\n",
              "  ('4', 'Qty'),\n",
              "  ('tabs', 'Form')],\n",
              " [('take', 'Method'),\n",
              "  ('3', 'Qty'),\n",
              "  ('tabs', 'Form'),\n",
              "  ('orally', 'PO'),\n",
              "  ('bid', 'BID'),\n",
              "  ('for', 'FOR'),\n",
              "  ('10', 'Duration'),\n",
              "  ('days', 'DurationUnit'),\n",
              "  ('at', 'AT'),\n",
              "  ('bedtime', 'WHEN')],\n",
              " [('swallow', 'Method'),\n",
              "  ('three', 'Qty'),\n",
              "  ('capsules', 'Form'),\n",
              "  ('tid', 'TID'),\n",
              "  ('orally', 'PO')],\n",
              " [('take', 'Method'),\n",
              "  ('2', 'Qty'),\n",
              "  ('capsules', 'Form'),\n",
              "  ('po', 'PO'),\n",
              "  ('every', 'EVERY'),\n",
              "  ('6', 'Period'),\n",
              "  ('hours', 'PeriodUnit')],\n",
              " [('take', 'Method'),\n",
              "  ('2', 'Qty'),\n",
              "  ('tabs', 'Form'),\n",
              "  ('po', 'PO'),\n",
              "  ('for', 'FOR'),\n",
              "  ('10', 'Duration'),\n",
              "  ('days', 'DurationUnit')],\n",
              " [('take', 'Method'),\n",
              "  ('100', 'Qty'),\n",
              "  ('caps', 'Form'),\n",
              "  ('by', 'BY'),\n",
              "  ('mouth', 'PO'),\n",
              "  ('tid', 'TID'),\n",
              "  ('for', 'FOR'),\n",
              "  ('10', 'Duration'),\n",
              "  ('weeks', 'DurationUnit')],\n",
              " [('take', 'Method'),\n",
              "  ('2', 'Qty'),\n",
              "  ('tabs', 'Form'),\n",
              "  ('after', 'AFTER'),\n",
              "  ('an', 'Period'),\n",
              "  ('hour', 'PeriodUnit')],\n",
              " [('2', 'Qty'),\n",
              "  ('tabs', 'Form'),\n",
              "  ('every', 'EVERY'),\n",
              "  ('4-6', 'Period'),\n",
              "  ('hours', 'PeriodUnit')],\n",
              " [('every', 'EVERY'),\n",
              "  ('4', 'Period'),\n",
              "  ('to', 'TO'),\n",
              "  ('6', 'PeriodMax'),\n",
              "  ('hours', 'PeriodUnit')],\n",
              " [('q46h', 'Q46H')],\n",
              " [('q4-6h', 'Q4-6H')],\n",
              " [('2', 'Qty'),\n",
              "  ('hours', 'PeriodUnit'),\n",
              "  ('before', 'BEFORE'),\n",
              "  ('breakfast', 'WHEN')],\n",
              " [('before', 'BEFORE'),\n",
              "  ('30', 'Qty'),\n",
              "  ('mins', 'M'),\n",
              "  ('at', 'AT'),\n",
              "  ('bedtime', 'WHEN')],\n",
              " [('30', 'Qty'), ('mins', 'M'), ('before', 'BEFORE'), ('bed', 'WHEN')],\n",
              " [('and', 'AND'),\n",
              "  ('100', 'Qty'),\n",
              "  ('tabs', 'Form'),\n",
              "  ('twice', 'Frequency'),\n",
              "  ('a', 'Period'),\n",
              "  ('month', 'PeriodUnit')],\n",
              " [('100', 'Qty'),\n",
              "  ('tabs', 'Form'),\n",
              "  ('twice', 'Frequency'),\n",
              "  ('a', 'Period'),\n",
              "  ('month', 'PeriodUnit')],\n",
              " [('100', 'Qty'),\n",
              "  ('tabs', 'Form'),\n",
              "  ('once', 'Frequency'),\n",
              "  ('a', 'Period'),\n",
              "  ('month', 'PeriodUnit')],\n",
              " [('100', 'Qty'),\n",
              "  ('tabs', 'Form'),\n",
              "  ('thrice', 'Frequency'),\n",
              "  ('a', 'Period'),\n",
              "  ('month', 'PeriodUnit')],\n",
              " [('3', 'Qty'),\n",
              "  ('tabs', 'Form'),\n",
              "  ('daily', 'Frequency'),\n",
              "  ('for', 'FOR'),\n",
              "  ('3', 'Duration'),\n",
              "  ('days', 'DurationUnit'),\n",
              "  ('then', 'THEN'),\n",
              "  ('1', 'Qty'),\n",
              "  ('tab', 'Form'),\n",
              "  ('per', 'Frequency'),\n",
              "  ('day', 'PeriodUnit'),\n",
              "  ('at', 'AT'),\n",
              "  ('bed', 'WHEN')],\n",
              " [('30', 'Qty'),\n",
              "  ('tabs', 'Form'),\n",
              "  ('10', 'Duration'),\n",
              "  ('days', 'DurationUnit'),\n",
              "  ('tid', 'TID')],\n",
              " [('take', 'Method'),\n",
              "  ('30', 'Qty'),\n",
              "  ('tabs', 'Form'),\n",
              "  ('for', 'FOR'),\n",
              "  ('10', 'Duration'),\n",
              "  ('days', 'DurationUnit'),\n",
              "  ('three', 'Qty'),\n",
              "  ('times', 'TIMES'),\n",
              "  ('a', 'Period'),\n",
              "  ('day', 'PeriodUnit')],\n",
              " [('qid', 'QID'), ('q6h', 'Q6H')],\n",
              " [('bid', 'BID')],\n",
              " [('qid', 'QID')],\n",
              " [('30', 'Qty'),\n",
              "  ('tabs', 'Form'),\n",
              "  ('before', 'BEFORE'),\n",
              "  ('dinner', 'WHEN'),\n",
              "  ('and', 'AND'),\n",
              "  ('bedtime', 'WHEN')],\n",
              " [('30', 'Qty'),\n",
              "  ('tabs', 'Form'),\n",
              "  ('before', 'BEFORE'),\n",
              "  ('dinner', 'WHEN'),\n",
              "  ('&', 'AND'),\n",
              "  ('bedtime', 'WHEN')],\n",
              " [('take', 'Method'),\n",
              "  ('3', 'Qty'),\n",
              "  ('tabs', 'Form'),\n",
              "  ('at', 'AT'),\n",
              "  ('bedtime', 'WHEN')],\n",
              " [('30', 'Qty'),\n",
              "  ('tabs', 'Form'),\n",
              "  ('thrice', 'Frequency'),\n",
              "  ('daily', 'DAILY'),\n",
              "  ('for', 'FOR'),\n",
              "  ('10', 'Duration'),\n",
              "  ('days', 'DurationUnit')],\n",
              " [('30', 'Qty'),\n",
              "  ('tabs', 'Form'),\n",
              "  ('for', 'FOR'),\n",
              "  ('10', 'Duration'),\n",
              "  ('days', 'DurationUnit'),\n",
              "  ('three', 'Frequency'),\n",
              "  ('times', 'TIMES'),\n",
              "  ('a', 'Period'),\n",
              "  ('day', 'PeriodUnit')],\n",
              " [('take', 'Method'),\n",
              "  ('2', 'Qty'),\n",
              "  ('tablets', 'Form'),\n",
              "  ('a', 'Period'),\n",
              "  ('day', 'PeriodUnit')],\n",
              " [('qid', 'QID'),\n",
              "  ('for', 'FOR'),\n",
              "  ('10', 'Duration'),\n",
              "  ('days', 'DurationUnit')],\n",
              " [('every', 'EVERY'), ('day', 'PeriodUnit')],\n",
              " [('take', 'Method'),\n",
              "  ('2', 'Qty'),\n",
              "  ('caps', 'Form'),\n",
              "  ('at', 'AT'),\n",
              "  ('bedtime', 'WHEN')],\n",
              " [('apply', 'Method'),\n",
              "  ('3', 'Qty'),\n",
              "  ('drops', 'Form'),\n",
              "  ('before', 'BEFORE'),\n",
              "  ('bedtime', 'WHEN')],\n",
              " [('take', 'Method'),\n",
              "  ('three', 'Qty'),\n",
              "  ('capsules', 'Form'),\n",
              "  ('daily', 'DAILY')],\n",
              " [('swallow', 'Method'),\n",
              "  ('3', 'Qty'),\n",
              "  ('pills', 'Form'),\n",
              "  ('once', 'Frequency'),\n",
              "  ('a', 'Period'),\n",
              "  ('day', 'PeriodUnit')],\n",
              " [('swallow', 'Method'),\n",
              "  ('three', 'Qty'),\n",
              "  ('pills', 'Form'),\n",
              "  ('thrice', 'Frequency'),\n",
              "  ('a', 'Period'),\n",
              "  ('day', 'PeriodUnit')],\n",
              " [('apply', 'Method'), ('daily', 'DAILY')],\n",
              " [('apply', 'Method'),\n",
              "  ('three', 'Qty'),\n",
              "  ('drops', 'Form'),\n",
              "  ('before', 'BEFORE'),\n",
              "  ('bedtime', 'WHEN')],\n",
              " [('every', 'EVERY'), ('6', 'Period'), ('hours', 'PeriodUnit')],\n",
              " [('before', 'BEFORE'), ('food', 'FOOD')],\n",
              " [('after', 'AFTER'), ('food', 'FOOD')],\n",
              " [('for', 'FOR'), ('20', 'Duration'), ('days', 'DurationUnit')],\n",
              " [('for', 'FOR'), ('twenty', 'Duration'), ('days', 'DurationUnit')],\n",
              " [('with', 'WITH'), ('meals', 'FOOD')]]"
            ]
          },
          "metadata": {},
          "execution_count": 6
        }
      ]
    },
    {
      "cell_type": "markdown",
      "metadata": {
        "id": "IOo_QW-HWK4W"
      },
      "source": [
        "### Creating the triples_maker( ) for feature extraction\n",
        "- input: tuples_maker_output\n",
        "- output: \n",
        "[[('for', 'IN', 'FOR'),\n",
        "  ('5', 'CD', 'Duration'),\n",
        "  ('to', 'TO', 'TO'),\n",
        "  ('6', 'CD', 'DurationMax'),\n",
        "  ('days', 'NNS', 'DurationUnit')], [second sentence], ... ]"
      ]
    },
    {
      "cell_type": "code",
      "metadata": {
        "id": "X2IlxtfJWK4W"
      },
      "source": [
        "def triples_maker(whole_data):\n",
        "  sample_data = []\n",
        "  for data in whole_data:\n",
        "    new_tuples = []\n",
        "\n",
        "    for tuples in data:\n",
        "      tagged_word = nltk.pos_tag([tuples[0]])\n",
        "      tagged_word = tagged_word[0][1]\n",
        "      new_tuple = (tuples[0], tagged_word, tuples[1])\n",
        "      new_tuples.append(new_tuple)\n",
        "\n",
        "    sample_data.append(new_tuples)\n",
        "\n",
        "  return sample_data"
      ],
      "execution_count": 7,
      "outputs": []
    },
    {
      "cell_type": "code",
      "metadata": {
        "colab": {
          "base_uri": "https://localhost:8080/"
        },
        "id": "cgrVzoxNnCrE",
        "outputId": "044fa119-d539-47ac-bbec-a12cd4cc4528"
      },
      "source": [
        "sample_data = triples_maker(tuples_maker_output)\n",
        "sample_data"
      ],
      "execution_count": 8,
      "outputs": [
        {
          "output_type": "execute_result",
          "data": {
            "text/plain": [
              "[[('for', 'IN', 'FOR'),\n",
              "  ('5', 'CD', 'Duration'),\n",
              "  ('to', 'TO', 'TO'),\n",
              "  ('6', 'CD', 'DurationMax'),\n",
              "  ('days', 'NNS', 'DurationUnit')],\n",
              " [('inject', 'NN', 'Method'), ('2', 'CD', 'Qty'), ('units', 'NNS', 'Form')],\n",
              " [('x', 'NN', 'FOR'),\n",
              "  ('2', 'CD', 'Duration'),\n",
              "  ('weeks', 'NNS', 'DurationUnit')],\n",
              " [('x', 'NN', 'FOR'),\n",
              "  ('3', 'CD', 'Duration'),\n",
              "  ('days', 'NNS', 'DurationUnit')],\n",
              " [('every', 'DT', 'EVERY'), ('day', 'NN', 'Period')],\n",
              " [('every', 'DT', 'EVERY'),\n",
              "  ('2', 'CD', 'Period'),\n",
              "  ('weeks', 'NNS', 'PeriodUnit')],\n",
              " [('every', 'DT', 'EVERY'),\n",
              "  ('3', 'CD', 'Period'),\n",
              "  ('days', 'NNS', 'PeriodUnit')],\n",
              " [('every', 'DT', 'EVERY'),\n",
              "  ('1', 'CD', 'Period'),\n",
              "  ('to', 'TO', 'TO'),\n",
              "  ('2', 'CD', 'PeriodMax'),\n",
              "  ('months', 'NNS', 'PeriodUnit')],\n",
              " [('every', 'DT', 'EVERY'),\n",
              "  ('2', 'CD', 'Period'),\n",
              "  ('to', 'TO', 'TO'),\n",
              "  ('6', 'CD', 'PeriodMax'),\n",
              "  ('weeks', 'NNS', 'PeriodUnit')],\n",
              " [('every', 'DT', 'EVERY'),\n",
              "  ('4', 'CD', 'Period'),\n",
              "  ('to', 'TO', 'TO'),\n",
              "  ('6', 'CD', 'PeriodMax'),\n",
              "  ('days', 'NNS', 'PeriodUnit')],\n",
              " [('take', 'VB', 'Method'),\n",
              "  ('two', 'CD', 'Qty'),\n",
              "  ('to', 'TO', 'TO'),\n",
              "  ('four', 'CD', 'Qty'),\n",
              "  ('tabs', 'NNS', 'Form')],\n",
              " [('take', 'VB', 'Method'),\n",
              "  ('2', 'CD', 'Qty'),\n",
              "  ('to', 'TO', 'TO'),\n",
              "  ('4', 'CD', 'Qty'),\n",
              "  ('tabs', 'NNS', 'Form')],\n",
              " [('take', 'VB', 'Method'),\n",
              "  ('3', 'CD', 'Qty'),\n",
              "  ('tabs', 'NNS', 'Form'),\n",
              "  ('orally', 'RB', 'PO'),\n",
              "  ('bid', 'NN', 'BID'),\n",
              "  ('for', 'IN', 'FOR'),\n",
              "  ('10', 'CD', 'Duration'),\n",
              "  ('days', 'NNS', 'DurationUnit'),\n",
              "  ('at', 'IN', 'AT'),\n",
              "  ('bedtime', 'NN', 'WHEN')],\n",
              " [('swallow', 'NN', 'Method'),\n",
              "  ('three', 'CD', 'Qty'),\n",
              "  ('capsules', 'NNS', 'Form'),\n",
              "  ('tid', 'NN', 'TID'),\n",
              "  ('orally', 'RB', 'PO')],\n",
              " [('take', 'VB', 'Method'),\n",
              "  ('2', 'CD', 'Qty'),\n",
              "  ('capsules', 'NNS', 'Form'),\n",
              "  ('po', 'NN', 'PO'),\n",
              "  ('every', 'DT', 'EVERY'),\n",
              "  ('6', 'CD', 'Period'),\n",
              "  ('hours', 'NNS', 'PeriodUnit')],\n",
              " [('take', 'VB', 'Method'),\n",
              "  ('2', 'CD', 'Qty'),\n",
              "  ('tabs', 'NNS', 'Form'),\n",
              "  ('po', 'NN', 'PO'),\n",
              "  ('for', 'IN', 'FOR'),\n",
              "  ('10', 'CD', 'Duration'),\n",
              "  ('days', 'NNS', 'DurationUnit')],\n",
              " [('take', 'VB', 'Method'),\n",
              "  ('100', 'CD', 'Qty'),\n",
              "  ('caps', 'NNS', 'Form'),\n",
              "  ('by', 'IN', 'BY'),\n",
              "  ('mouth', 'NN', 'PO'),\n",
              "  ('tid', 'NN', 'TID'),\n",
              "  ('for', 'IN', 'FOR'),\n",
              "  ('10', 'CD', 'Duration'),\n",
              "  ('weeks', 'NNS', 'DurationUnit')],\n",
              " [('take', 'VB', 'Method'),\n",
              "  ('2', 'CD', 'Qty'),\n",
              "  ('tabs', 'NNS', 'Form'),\n",
              "  ('after', 'IN', 'AFTER'),\n",
              "  ('an', 'DT', 'Period'),\n",
              "  ('hour', 'NN', 'PeriodUnit')],\n",
              " [('2', 'CD', 'Qty'),\n",
              "  ('tabs', 'NNS', 'Form'),\n",
              "  ('every', 'DT', 'EVERY'),\n",
              "  ('4-6', 'JJ', 'Period'),\n",
              "  ('hours', 'NNS', 'PeriodUnit')],\n",
              " [('every', 'DT', 'EVERY'),\n",
              "  ('4', 'CD', 'Period'),\n",
              "  ('to', 'TO', 'TO'),\n",
              "  ('6', 'CD', 'PeriodMax'),\n",
              "  ('hours', 'NNS', 'PeriodUnit')],\n",
              " [('q46h', 'NN', 'Q46H')],\n",
              " [('q4-6h', 'NN', 'Q4-6H')],\n",
              " [('2', 'CD', 'Qty'),\n",
              "  ('hours', 'NNS', 'PeriodUnit'),\n",
              "  ('before', 'IN', 'BEFORE'),\n",
              "  ('breakfast', 'NN', 'WHEN')],\n",
              " [('before', 'IN', 'BEFORE'),\n",
              "  ('30', 'CD', 'Qty'),\n",
              "  ('mins', 'NNS', 'M'),\n",
              "  ('at', 'IN', 'AT'),\n",
              "  ('bedtime', 'NN', 'WHEN')],\n",
              " [('30', 'CD', 'Qty'),\n",
              "  ('mins', 'NNS', 'M'),\n",
              "  ('before', 'IN', 'BEFORE'),\n",
              "  ('bed', 'NN', 'WHEN')],\n",
              " [('and', 'CC', 'AND'),\n",
              "  ('100', 'CD', 'Qty'),\n",
              "  ('tabs', 'NNS', 'Form'),\n",
              "  ('twice', 'RB', 'Frequency'),\n",
              "  ('a', 'DT', 'Period'),\n",
              "  ('month', 'NN', 'PeriodUnit')],\n",
              " [('100', 'CD', 'Qty'),\n",
              "  ('tabs', 'NNS', 'Form'),\n",
              "  ('twice', 'RB', 'Frequency'),\n",
              "  ('a', 'DT', 'Period'),\n",
              "  ('month', 'NN', 'PeriodUnit')],\n",
              " [('100', 'CD', 'Qty'),\n",
              "  ('tabs', 'NNS', 'Form'),\n",
              "  ('once', 'RB', 'Frequency'),\n",
              "  ('a', 'DT', 'Period'),\n",
              "  ('month', 'NN', 'PeriodUnit')],\n",
              " [('100', 'CD', 'Qty'),\n",
              "  ('tabs', 'NNS', 'Form'),\n",
              "  ('thrice', 'NN', 'Frequency'),\n",
              "  ('a', 'DT', 'Period'),\n",
              "  ('month', 'NN', 'PeriodUnit')],\n",
              " [('3', 'CD', 'Qty'),\n",
              "  ('tabs', 'NNS', 'Form'),\n",
              "  ('daily', 'JJ', 'Frequency'),\n",
              "  ('for', 'IN', 'FOR'),\n",
              "  ('3', 'CD', 'Duration'),\n",
              "  ('days', 'NNS', 'DurationUnit'),\n",
              "  ('then', 'RB', 'THEN'),\n",
              "  ('1', 'CD', 'Qty'),\n",
              "  ('tab', 'NN', 'Form'),\n",
              "  ('per', 'IN', 'Frequency'),\n",
              "  ('day', 'NN', 'PeriodUnit'),\n",
              "  ('at', 'IN', 'AT'),\n",
              "  ('bed', 'NN', 'WHEN')],\n",
              " [('30', 'CD', 'Qty'),\n",
              "  ('tabs', 'NNS', 'Form'),\n",
              "  ('10', 'CD', 'Duration'),\n",
              "  ('days', 'NNS', 'DurationUnit'),\n",
              "  ('tid', 'NN', 'TID')],\n",
              " [('take', 'VB', 'Method'),\n",
              "  ('30', 'CD', 'Qty'),\n",
              "  ('tabs', 'NNS', 'Form'),\n",
              "  ('for', 'IN', 'FOR'),\n",
              "  ('10', 'CD', 'Duration'),\n",
              "  ('days', 'NNS', 'DurationUnit'),\n",
              "  ('three', 'CD', 'Qty'),\n",
              "  ('times', 'NNS', 'TIMES'),\n",
              "  ('a', 'DT', 'Period'),\n",
              "  ('day', 'NN', 'PeriodUnit')],\n",
              " [('qid', 'NN', 'QID'), ('q6h', 'NN', 'Q6H')],\n",
              " [('bid', 'NN', 'BID')],\n",
              " [('qid', 'NN', 'QID')],\n",
              " [('30', 'CD', 'Qty'),\n",
              "  ('tabs', 'NNS', 'Form'),\n",
              "  ('before', 'IN', 'BEFORE'),\n",
              "  ('dinner', 'NN', 'WHEN'),\n",
              "  ('and', 'CC', 'AND'),\n",
              "  ('bedtime', 'NN', 'WHEN')],\n",
              " [('30', 'CD', 'Qty'),\n",
              "  ('tabs', 'NNS', 'Form'),\n",
              "  ('before', 'IN', 'BEFORE'),\n",
              "  ('dinner', 'NN', 'WHEN'),\n",
              "  ('&', 'CC', 'AND'),\n",
              "  ('bedtime', 'NN', 'WHEN')],\n",
              " [('take', 'VB', 'Method'),\n",
              "  ('3', 'CD', 'Qty'),\n",
              "  ('tabs', 'NNS', 'Form'),\n",
              "  ('at', 'IN', 'AT'),\n",
              "  ('bedtime', 'NN', 'WHEN')],\n",
              " [('30', 'CD', 'Qty'),\n",
              "  ('tabs', 'NNS', 'Form'),\n",
              "  ('thrice', 'NN', 'Frequency'),\n",
              "  ('daily', 'JJ', 'DAILY'),\n",
              "  ('for', 'IN', 'FOR'),\n",
              "  ('10', 'CD', 'Duration'),\n",
              "  ('days', 'NNS', 'DurationUnit')],\n",
              " [('30', 'CD', 'Qty'),\n",
              "  ('tabs', 'NNS', 'Form'),\n",
              "  ('for', 'IN', 'FOR'),\n",
              "  ('10', 'CD', 'Duration'),\n",
              "  ('days', 'NNS', 'DurationUnit'),\n",
              "  ('three', 'CD', 'Frequency'),\n",
              "  ('times', 'NNS', 'TIMES'),\n",
              "  ('a', 'DT', 'Period'),\n",
              "  ('day', 'NN', 'PeriodUnit')],\n",
              " [('take', 'VB', 'Method'),\n",
              "  ('2', 'CD', 'Qty'),\n",
              "  ('tablets', 'NNS', 'Form'),\n",
              "  ('a', 'DT', 'Period'),\n",
              "  ('day', 'NN', 'PeriodUnit')],\n",
              " [('qid', 'NN', 'QID'),\n",
              "  ('for', 'IN', 'FOR'),\n",
              "  ('10', 'CD', 'Duration'),\n",
              "  ('days', 'NNS', 'DurationUnit')],\n",
              " [('every', 'DT', 'EVERY'), ('day', 'NN', 'PeriodUnit')],\n",
              " [('take', 'VB', 'Method'),\n",
              "  ('2', 'CD', 'Qty'),\n",
              "  ('caps', 'NNS', 'Form'),\n",
              "  ('at', 'IN', 'AT'),\n",
              "  ('bedtime', 'NN', 'WHEN')],\n",
              " [('apply', 'VB', 'Method'),\n",
              "  ('3', 'CD', 'Qty'),\n",
              "  ('drops', 'NNS', 'Form'),\n",
              "  ('before', 'IN', 'BEFORE'),\n",
              "  ('bedtime', 'NN', 'WHEN')],\n",
              " [('take', 'VB', 'Method'),\n",
              "  ('three', 'CD', 'Qty'),\n",
              "  ('capsules', 'NNS', 'Form'),\n",
              "  ('daily', 'JJ', 'DAILY')],\n",
              " [('swallow', 'NN', 'Method'),\n",
              "  ('3', 'CD', 'Qty'),\n",
              "  ('pills', 'NNS', 'Form'),\n",
              "  ('once', 'RB', 'Frequency'),\n",
              "  ('a', 'DT', 'Period'),\n",
              "  ('day', 'NN', 'PeriodUnit')],\n",
              " [('swallow', 'NN', 'Method'),\n",
              "  ('three', 'CD', 'Qty'),\n",
              "  ('pills', 'NNS', 'Form'),\n",
              "  ('thrice', 'NN', 'Frequency'),\n",
              "  ('a', 'DT', 'Period'),\n",
              "  ('day', 'NN', 'PeriodUnit')],\n",
              " [('apply', 'VB', 'Method'), ('daily', 'JJ', 'DAILY')],\n",
              " [('apply', 'VB', 'Method'),\n",
              "  ('three', 'CD', 'Qty'),\n",
              "  ('drops', 'NNS', 'Form'),\n",
              "  ('before', 'IN', 'BEFORE'),\n",
              "  ('bedtime', 'NN', 'WHEN')],\n",
              " [('every', 'DT', 'EVERY'),\n",
              "  ('6', 'CD', 'Period'),\n",
              "  ('hours', 'NNS', 'PeriodUnit')],\n",
              " [('before', 'IN', 'BEFORE'), ('food', 'NN', 'FOOD')],\n",
              " [('after', 'IN', 'AFTER'), ('food', 'NN', 'FOOD')],\n",
              " [('for', 'IN', 'FOR'),\n",
              "  ('20', 'CD', 'Duration'),\n",
              "  ('days', 'NNS', 'DurationUnit')],\n",
              " [('for', 'IN', 'FOR'),\n",
              "  ('twenty', 'NN', 'Duration'),\n",
              "  ('days', 'NNS', 'DurationUnit')],\n",
              " [('with', 'IN', 'WITH'), ('meals', 'NNS', 'FOOD')]]"
            ]
          },
          "metadata": {},
          "execution_count": 8
        }
      ]
    },
    {
      "cell_type": "markdown",
      "metadata": {
        "id": "vJcFWnUaWK4X"
      },
      "source": [
        "### Creating the features extractor method (GIVEN as a BASELINE)\n",
        "\n",
        "Using SOS, EOS, lowercase, uppercase, title, digit, postag, previous_tag, next_tag"
      ]
    },
    {
      "cell_type": "code",
      "metadata": {
        "id": "UaOTNpnrWK4X"
      },
      "source": [
        "def token_to_features(doc, i):\n",
        "    word = doc[i][0]\n",
        "    postag = doc[i][1]\n",
        "\n",
        "    # Common features for all words\n",
        "    features = [\n",
        "        'bias',\n",
        "        'word.lower=' + word.lower(),\n",
        "        'word[-3:]=' + word[-3:],\n",
        "        'word[-2:]=' + word[-2:],\n",
        "        'word.isupper=%s' % word.isupper(),\n",
        "        'word.istitle=%s' % word.istitle(),\n",
        "        'word.isdigit=%s' % word.isdigit(),\n",
        "        'postag=' + postag\n",
        "    ]\n",
        "\n",
        "    # Features for words that are not\n",
        "    # at the beginning of a document\n",
        "    if i > 0:\n",
        "        word1 = doc[i-1][0]\n",
        "        postag1 = doc[i-1][1]\n",
        "        features.extend([\n",
        "            '-1:word.lower=' + word1.lower(),\n",
        "            '-1:word.istitle=%s' % word1.istitle(),\n",
        "            '-1:word.isupper=%s' % word1.isupper(),\n",
        "            '-1:word.isdigit=%s' % word1.isdigit(),\n",
        "            '-1:postag=' + postag1\n",
        "        ])\n",
        "    else:\n",
        "        # Indicate that it is the 'beginning of a document'\n",
        "        features.append('BOS')\n",
        "\n",
        "    # Features for words that are not\n",
        "    # at the end of a document\n",
        "    if i < len(doc)-1:\n",
        "        word1 = doc[i+1][0]\n",
        "        postag1 = doc[i+1][1]\n",
        "        features.extend([\n",
        "            '+1:word.lower=' + word1.lower(),\n",
        "            '+1:word.istitle=%s' % word1.istitle(),\n",
        "            '+1:word.isupper=%s' % word1.isupper(),\n",
        "            '+1:word.isdigit=%s' % word1.isdigit(),\n",
        "            '+1:postag=' + postag1\n",
        "        ])\n",
        "    else:\n",
        "        # Indicate that it is the 'end of a document'\n",
        "        features.append('EOS')\n",
        "\n",
        "    return features"
      ],
      "execution_count": 9,
      "outputs": []
    },
    {
      "cell_type": "markdown",
      "metadata": {
        "id": "1SBuEyoTWK4X"
      },
      "source": [
        "### Running the feature extractor on the training data \n",
        "- Feature extraction\n",
        "- Train-test-split"
      ]
    },
    {
      "cell_type": "code",
      "metadata": {
        "id": "pMZ1J2dSxpTv"
      },
      "source": [
        "def get_features(doc):\n",
        "  return [token_to_features(doc, i) for i in range (len(doc))]\n",
        "\n",
        "# A function for generating the list of labels for each document\n",
        "def get_labels(doc):\n",
        "  return [label for (token, postag, label) in doc]\n",
        "\n",
        "X = [get_features (doc) for doc in sample_data]\n",
        "y = [get_labels (doc) for doc in sample_data]\n",
        "X_train, X_test, y_train, y_test = train_test_split(X, y, test_size=0.2)"
      ],
      "execution_count": 10,
      "outputs": []
    },
    {
      "cell_type": "code",
      "metadata": {
        "colab": {
          "base_uri": "https://localhost:8080/"
        },
        "id": "LzYhUseh2zX7",
        "outputId": "5c3c89cf-a44b-4566-f5e9-4d9298e38442"
      },
      "source": [
        "X_train[0][0]"
      ],
      "execution_count": 11,
      "outputs": [
        {
          "output_type": "execute_result",
          "data": {
            "text/plain": [
              "['bias',\n",
              " 'word.lower=every',\n",
              " 'word[-3:]=ery',\n",
              " 'word[-2:]=ry',\n",
              " 'word.isupper=False',\n",
              " 'word.istitle=False',\n",
              " 'word.isdigit=False',\n",
              " 'postag=DT',\n",
              " 'BOS',\n",
              " '+1:word.lower=6',\n",
              " '+1:word.istitle=False',\n",
              " '+1:word.isupper=False',\n",
              " '+1:word.isdigit=True',\n",
              " '+1:postag=CD']"
            ]
          },
          "metadata": {},
          "execution_count": 11
        }
      ]
    },
    {
      "cell_type": "code",
      "metadata": {
        "colab": {
          "base_uri": "https://localhost:8080/",
          "height": 36
        },
        "id": "nXIenyb03bR1",
        "outputId": "740f7866-8206-494c-9e8e-005090998575"
      },
      "source": [
        "y_train[0][0]"
      ],
      "execution_count": 12,
      "outputs": [
        {
          "output_type": "execute_result",
          "data": {
            "application/vnd.google.colaboratory.intrinsic+json": {
              "type": "string"
            },
            "text/plain": [
              "'EVERY'"
            ]
          },
          "metadata": {},
          "execution_count": 12
        }
      ]
    },
    {
      "cell_type": "markdown",
      "metadata": {
        "id": "w9ARHg3XWK4Y"
      },
      "source": [
        "### Training the CRF model with the features extracted using the feature extractor method"
      ]
    },
    {
      "cell_type": "code",
      "metadata": {
        "id": "2N3f4txO5zyk"
      },
      "source": [
        "import sklearn_crfsuite\n",
        "from sklearn_crfsuite import CRF, metrics\n",
        "import pickle\n",
        "\n",
        "# crf = CRF(algorithm='lbfgs', c1=0.1, c2=10, max_iterations=50)\n",
        "crf = CRF(algorithm='lbfgs', max_iterations=50)\n",
        "\n",
        "# Submit training data to the trainer\n",
        "crf.fit(X_train, y_train)\n",
        "\n",
        "# Providing a file name as a parameter to the train function, such that\n",
        "# the model will be saved to the file when training is finished\n",
        "filename = 'clf_model.sav'\n",
        "pickle.dump(crf, open(filename, 'wb'))"
      ],
      "execution_count": 13,
      "outputs": []
    },
    {
      "cell_type": "code",
      "metadata": {
        "colab": {
          "base_uri": "https://localhost:8080/"
        },
        "id": "VpvLB1866D-L",
        "outputId": "b7c3b38a-1454-48d9-82cc-94b52a005a3d"
      },
      "source": [
        "labels = crf.classes_\n",
        "labels"
      ],
      "execution_count": 14,
      "outputs": [
        {
          "output_type": "execute_result",
          "data": {
            "text/plain": [
              "['EVERY',\n",
              " 'Period',\n",
              " 'PeriodUnit',\n",
              " 'Qty',\n",
              " 'Form',\n",
              " 'Frequency',\n",
              " 'Method',\n",
              " 'FOR',\n",
              " 'Duration',\n",
              " 'DurationUnit',\n",
              " 'TIMES',\n",
              " 'AND',\n",
              " 'WITH',\n",
              " 'FOOD',\n",
              " 'TO',\n",
              " 'PeriodMax',\n",
              " 'BEFORE',\n",
              " 'WHEN',\n",
              " 'AFTER',\n",
              " 'PO',\n",
              " 'Q4-6H',\n",
              " 'Q46H',\n",
              " 'M',\n",
              " 'THEN',\n",
              " 'AT',\n",
              " 'BID',\n",
              " 'QID',\n",
              " 'Q6H',\n",
              " 'DAILY',\n",
              " 'BY',\n",
              " 'TID']"
            ]
          },
          "metadata": {},
          "execution_count": 14
        }
      ]
    },
    {
      "cell_type": "markdown",
      "metadata": {
        "id": "GfJB5mJAWK4Y"
      },
      "source": [
        "### Predicting the test data with the built model"
      ]
    },
    {
      "cell_type": "code",
      "metadata": {
        "scrolled": true,
        "id": "eIxjnpijWK4Z",
        "colab": {
          "base_uri": "https://localhost:8080/"
        },
        "outputId": "16ef39a3-9fe1-45ea-d2f6-02b28d202f15"
      },
      "source": [
        "y_pred = crf.predict(X_test)\n",
        "labels = list(crf.classes_)\n",
        "f1_score = metrics.flat_f1_score(y_test, y_pred, average='weighted', labels=labels, zero_division=False)\n",
        "print(\"F-Score:\", f1_score)"
      ],
      "execution_count": 15,
      "outputs": [
        {
          "output_type": "stream",
          "name": "stdout",
          "text": [
            "F-Score: 0.8660733206187752\n"
          ]
        }
      ]
    },
    {
      "cell_type": "markdown",
      "metadata": {
        "id": "jKEQQZTCWK4Z"
      },
      "source": [
        "### Putting all the prediction logic inside a predict method"
      ]
    },
    {
      "cell_type": "code",
      "metadata": {
        "id": "rF6JxX7sWK4a"
      },
      "source": [
        "def predict(sig):\n",
        "    \"\"\"\n",
        "    predict(sig)\n",
        "    Purpose: Labels the given sig into corresponding labels\n",
        "    @param sig. A Sentence  # A medical prescription sig written by a doctor\n",
        "    @return     A list      # A list with predicted labels (first level of labeling)\n",
        "    >>> predict('2 tabs every 4 hours')\n",
        "    [['Qty', 'Form', 'EVERY', 'Period', 'PeriodUnit']]\n",
        "    >>> predict('2 tabs with food')\n",
        "    [['Qty', 'Form', 'WITH', 'FOOD']]\n",
        "    >>> predict('2 tabs qid x 30 days')\n",
        "    [['Qty', 'Form', 'QID', 'FOR', 'Duration', 'DurationUnit']]\n",
        "    \"\"\"\n",
        "    print(sig)\n",
        "    predictions = crf.predict([sig.split(' ')])\n",
        "    print(predictions)\n",
        "    return predictions"
      ],
      "execution_count": 16,
      "outputs": []
    },
    {
      "cell_type": "markdown",
      "metadata": {
        "id": "JnLLAGPJWK4a"
      },
      "source": [
        "### Sample predictions"
      ]
    },
    {
      "cell_type": "code",
      "metadata": {
        "id": "OTcvSq5vWK4a",
        "colab": {
          "base_uri": "https://localhost:8080/"
        },
        "outputId": "0fca1277-9399-46e6-beca-f94903a5ef06"
      },
      "source": [
        "predictions = predict(\"take 2 tabs every 6 hours x 10 days\")"
      ],
      "execution_count": 17,
      "outputs": [
        {
          "output_type": "stream",
          "name": "stdout",
          "text": [
            "take 2 tabs every 6 hours x 10 days\n",
            "[['FOR', 'Duration', 'DurationUnit', 'FOR', 'Duration', 'DurationUnit', 'FOR', 'Duration', 'DurationUnit']]\n"
          ]
        }
      ]
    },
    {
      "cell_type": "code",
      "metadata": {
        "id": "Nz2iKOaJWK4a",
        "colab": {
          "base_uri": "https://localhost:8080/"
        },
        "outputId": "044cb992-6414-4204-c366-8128bb30724b"
      },
      "source": [
        "predictions = predict(\"2 capsu for 10 day at bed\")"
      ],
      "execution_count": 18,
      "outputs": [
        {
          "output_type": "stream",
          "name": "stdout",
          "text": [
            "2 capsu for 10 day at bed\n",
            "[['Method', 'Qty', 'Form', 'Frequency', 'FOR', 'Duration', 'DurationUnit']]\n"
          ]
        }
      ]
    },
    {
      "cell_type": "code",
      "metadata": {
        "id": "sWfjm9QqWK4a",
        "colab": {
          "base_uri": "https://localhost:8080/"
        },
        "outputId": "bc9e038f-847c-428b-e9c4-66b343798e88"
      },
      "source": [
        "predictions = predict(\"2 capsu for 10 days at bed\")"
      ],
      "execution_count": 19,
      "outputs": [
        {
          "output_type": "stream",
          "name": "stdout",
          "text": [
            "2 capsu for 10 days at bed\n",
            "[['Method', 'Qty', 'Form', 'Frequency', 'FOR', 'Duration', 'DurationUnit']]\n"
          ]
        }
      ]
    },
    {
      "cell_type": "code",
      "metadata": {
        "id": "Y6YHHlDfWK4b",
        "colab": {
          "base_uri": "https://localhost:8080/"
        },
        "outputId": "763d0ada-5086-4b6a-eeab-8bc6738e75db"
      },
      "source": [
        "predictions = predict(\"5 days 2 tabs at bed\")"
      ],
      "execution_count": 20,
      "outputs": [
        {
          "output_type": "stream",
          "name": "stdout",
          "text": [
            "5 days 2 tabs at bed\n",
            "[['FOR', 'Duration', 'DurationUnit', 'FOR', 'Duration', 'DurationUnit']]\n"
          ]
        }
      ]
    },
    {
      "cell_type": "code",
      "metadata": {
        "id": "xg2sAi9mWK4b",
        "colab": {
          "base_uri": "https://localhost:8080/"
        },
        "outputId": "093f72f2-9382-4672-a3a3-d859308d071e"
      },
      "source": [
        "predictions = predict(\"3 tabs qid x 10 weeks\")"
      ],
      "execution_count": 21,
      "outputs": [
        {
          "output_type": "stream",
          "name": "stdout",
          "text": [
            "3 tabs qid x 10 weeks\n",
            "[['FOR', 'Duration', 'DurationUnit', 'FOR', 'Duration', 'DurationUnit']]\n"
          ]
        }
      ]
    },
    {
      "cell_type": "code",
      "metadata": {
        "id": "WbRwnZ1pWK4b",
        "colab": {
          "base_uri": "https://localhost:8080/"
        },
        "outputId": "a42d8e2d-16fd-442b-e186-6a6b492f2c2f"
      },
      "source": [
        "predictions = predict(\"x 30 days\")"
      ],
      "execution_count": 22,
      "outputs": [
        {
          "output_type": "stream",
          "name": "stdout",
          "text": [
            "x 30 days\n",
            "[['FOR', 'Duration', 'DurationUnit']]\n"
          ]
        }
      ]
    },
    {
      "cell_type": "code",
      "metadata": {
        "id": "-HAI_A_vWK4c",
        "colab": {
          "base_uri": "https://localhost:8080/"
        },
        "outputId": "02db08cc-2563-4ba5-93ef-22033582f51d"
      },
      "source": [
        "predictions = predict(\"x 20 months\")"
      ],
      "execution_count": 23,
      "outputs": [
        {
          "output_type": "stream",
          "name": "stdout",
          "text": [
            "x 20 months\n",
            "[['FOR', 'Duration', 'DurationUnit']]\n"
          ]
        }
      ]
    },
    {
      "cell_type": "code",
      "metadata": {
        "id": "YmNed6x7WK4c",
        "colab": {
          "base_uri": "https://localhost:8080/"
        },
        "outputId": "cf563d5c-63db-4dc6-910b-c310cabaab2f"
      },
      "source": [
        "predictions = predict(\"take 2 tabs po tid for 10 days\")"
      ],
      "execution_count": 24,
      "outputs": [
        {
          "output_type": "stream",
          "name": "stdout",
          "text": [
            "take 2 tabs po tid for 10 days\n",
            "[['FOR', 'Duration', 'DurationUnit', 'Qty', 'Form', 'FOR', 'Duration', 'DurationUnit']]\n"
          ]
        }
      ]
    },
    {
      "cell_type": "code",
      "metadata": {
        "id": "87LYg4k_WK4c",
        "colab": {
          "base_uri": "https://localhost:8080/"
        },
        "outputId": "06445907-1f68-4f05-deda-5835d9128696"
      },
      "source": [
        "predictions = predict(\"take 2 capsules po every 6 hours\")"
      ],
      "execution_count": 25,
      "outputs": [
        {
          "output_type": "stream",
          "name": "stdout",
          "text": [
            "take 2 capsules po every 6 hours\n",
            "[['Method', 'Qty', 'Form', 'Frequency', 'FOR', 'Duration', 'DurationUnit']]\n"
          ]
        }
      ]
    },
    {
      "cell_type": "code",
      "metadata": {
        "id": "PvGt4tOaWK4c",
        "colab": {
          "base_uri": "https://localhost:8080/"
        },
        "outputId": "e7e33e07-1a5c-4e92-d533-4b3db97b3ed7"
      },
      "source": [
        "predictions = predict(\"inject 2 units pu tid\")"
      ],
      "execution_count": 26,
      "outputs": [
        {
          "output_type": "stream",
          "name": "stdout",
          "text": [
            "inject 2 units pu tid\n",
            "[['FOR', 'Duration', 'DurationUnit', 'Qty', 'Form']]\n"
          ]
        }
      ]
    },
    {
      "cell_type": "code",
      "metadata": {
        "id": "mIuv0AJ8WK4c",
        "colab": {
          "base_uri": "https://localhost:8080/"
        },
        "outputId": "2674e524-39e3-4dd4-ea10-d8748eb4af2d"
      },
      "source": [
        "predictions = predict(\"swallow 3 caps tid by mouth\")"
      ],
      "execution_count": 27,
      "outputs": [
        {
          "output_type": "stream",
          "name": "stdout",
          "text": [
            "swallow 3 caps tid by mouth\n",
            "[['FOR', 'Duration', 'DurationUnit', 'FOR', 'Duration', 'DurationUnit']]\n"
          ]
        }
      ]
    },
    {
      "cell_type": "code",
      "metadata": {
        "id": "lG0UVJakWK4d",
        "colab": {
          "base_uri": "https://localhost:8080/"
        },
        "outputId": "00ee7988-0232-4271-c1db-efc13f5465ae"
      },
      "source": [
        "predictions = predict(\"inject 3 units orally\")"
      ],
      "execution_count": 28,
      "outputs": [
        {
          "output_type": "stream",
          "name": "stdout",
          "text": [
            "inject 3 units orally\n",
            "[['Method', 'Qty', 'Form', 'Frequency']]\n"
          ]
        }
      ]
    },
    {
      "cell_type": "code",
      "metadata": {
        "id": "rVrKI7F3WK4d",
        "colab": {
          "base_uri": "https://localhost:8080/"
        },
        "outputId": "3b6949b8-b8e8-4100-ee66-9463bdbe7713"
      },
      "source": [
        "predictions = predict(\"orally take 3 tabs tid\")"
      ],
      "execution_count": 29,
      "outputs": [
        {
          "output_type": "stream",
          "name": "stdout",
          "text": [
            "orally take 3 tabs tid\n",
            "[['FOR', 'Duration', 'DurationUnit', 'Qty', 'Form']]\n"
          ]
        }
      ]
    },
    {
      "cell_type": "code",
      "metadata": {
        "id": "kqQ8VgBnWK4d",
        "colab": {
          "base_uri": "https://localhost:8080/"
        },
        "outputId": "a28680c0-ddd6-4b2e-c890-a47620348fc5"
      },
      "source": [
        "predictions = predict(\"by mouth take three caps\")"
      ],
      "execution_count": 30,
      "outputs": [
        {
          "output_type": "stream",
          "name": "stdout",
          "text": [
            "by mouth take three caps\n",
            "[['FOR', 'Duration', 'DurationUnit', 'Qty', 'Form']]\n"
          ]
        }
      ]
    },
    {
      "cell_type": "code",
      "metadata": {
        "id": "ZmPFNo--WK4d",
        "colab": {
          "base_uri": "https://localhost:8080/"
        },
        "outputId": "84aa06a4-7fa4-48fc-e9a2-19e3fb6e7f4c"
      },
      "source": [
        "predictions = predict(\"take 3 tabs orally three times a day for 10 days at bedtime\")"
      ],
      "execution_count": 31,
      "outputs": [
        {
          "output_type": "stream",
          "name": "stdout",
          "text": [
            "take 3 tabs orally three times a day for 10 days at bedtime\n",
            "[['FOR', 'Duration', 'DurationUnit', 'FOR', 'Duration', 'DurationUnit', 'Method', 'Qty', 'Form', 'Frequency', 'FOR', 'Duration', 'DurationUnit']]\n"
          ]
        }
      ]
    },
    {
      "cell_type": "code",
      "metadata": {
        "id": "G1uYnlgpWK4d",
        "colab": {
          "base_uri": "https://localhost:8080/"
        },
        "outputId": "d3966da9-122f-4731-ec55-91caf3a82844"
      },
      "source": [
        "predictions = predict(\"take 3 tabs orally bid for 10 days at bedtime\")"
      ],
      "execution_count": 32,
      "outputs": [
        {
          "output_type": "stream",
          "name": "stdout",
          "text": [
            "take 3 tabs orally bid for 10 days at bedtime\n",
            "[['FOR', 'Duration', 'DurationUnit', 'Method', 'Qty', 'Form', 'Frequency', 'FOR', 'Duration', 'DurationUnit']]\n"
          ]
        }
      ]
    },
    {
      "cell_type": "code",
      "metadata": {
        "id": "LswxWbV9WK4e",
        "colab": {
          "base_uri": "https://localhost:8080/"
        },
        "outputId": "2c771fb4-33bd-4bce-86be-b3211d451293"
      },
      "source": [
        "predictions = predict(\"take 3 tabs bid orally at bed\")"
      ],
      "execution_count": 33,
      "outputs": [
        {
          "output_type": "stream",
          "name": "stdout",
          "text": [
            "take 3 tabs bid orally at bed\n",
            "[['Method', 'Qty', 'Form', 'Frequency', 'FOR', 'Duration', 'DurationUnit']]\n"
          ]
        }
      ]
    },
    {
      "cell_type": "code",
      "metadata": {
        "id": "RoMLPYIiWK4e",
        "colab": {
          "base_uri": "https://localhost:8080/"
        },
        "outputId": "16d13805-c4a3-434c-f33d-895b4ba5e433"
      },
      "source": [
        "predictions = predict(\"take 10 capsules by mouth qid\")"
      ],
      "execution_count": 34,
      "outputs": [
        {
          "output_type": "stream",
          "name": "stdout",
          "text": [
            "take 10 capsules by mouth qid\n",
            "[['FOR', 'Duration', 'DurationUnit', 'FOR', 'Duration', 'DurationUnit']]\n"
          ]
        }
      ]
    },
    {
      "cell_type": "code",
      "metadata": {
        "id": "faRfOscOWK4e",
        "colab": {
          "base_uri": "https://localhost:8080/"
        },
        "outputId": "055545f2-3dd6-4ed8-e2e0-163318713536"
      },
      "source": [
        "predictions = predict(\"inject 10 units orally qid x 3 months\")"
      ],
      "execution_count": 35,
      "outputs": [
        {
          "output_type": "stream",
          "name": "stdout",
          "text": [
            "inject 10 units orally qid x 3 months\n",
            "[['FOR', 'Duration', 'DurationUnit', 'Qty', 'Form', 'FOR', 'Duration', 'DurationUnit']]\n"
          ]
        }
      ]
    },
    {
      "cell_type": "code",
      "metadata": {
        "id": "JyUQYmGXWK4e",
        "colab": {
          "base_uri": "https://localhost:8080/"
        },
        "outputId": "c2a4e6c7-364b-4248-b607-7f3483b491c2"
      },
      "source": [
        "prediction = predict(\"please take 2 tablets per day for a month in the morning and evening each day\")"
      ],
      "execution_count": 36,
      "outputs": [
        {
          "output_type": "stream",
          "name": "stdout",
          "text": [
            "please take 2 tablets per day for a month in the morning and evening each day\n",
            "[['FOR', 'Duration', 'DurationUnit', 'FOR', 'Duration', 'DurationUnit', 'FOR', 'Duration', 'DurationUnit', 'Method', 'Qty', 'Form', 'Frequency', 'FOR', 'Duration', 'DurationUnit']]\n"
          ]
        }
      ]
    },
    {
      "cell_type": "code",
      "metadata": {
        "id": "Fss-u5R0WK4f",
        "colab": {
          "base_uri": "https://localhost:8080/"
        },
        "outputId": "bd76515c-a37a-40cd-9c1e-87893869801d"
      },
      "source": [
        "prediction = predict(\"Amoxcicillin QID 30 tablets\")"
      ],
      "execution_count": 37,
      "outputs": [
        {
          "output_type": "stream",
          "name": "stdout",
          "text": [
            "Amoxcicillin QID 30 tablets\n",
            "[['Method', 'Qty', 'Form', 'Frequency']]\n"
          ]
        }
      ]
    },
    {
      "cell_type": "code",
      "metadata": {
        "id": "H11e7It3WK4f",
        "colab": {
          "base_uri": "https://localhost:8080/"
        },
        "outputId": "a23f3ed6-15c4-42e3-d434-78f04b6495f7"
      },
      "source": [
        "prediction = predict(\"take 3 tabs TID for 90 days with food\")"
      ],
      "execution_count": 38,
      "outputs": [
        {
          "output_type": "stream",
          "name": "stdout",
          "text": [
            "take 3 tabs TID for 90 days with food\n",
            "[['FOR', 'Duration', 'DurationUnit', 'FOR', 'Duration', 'DurationUnit', 'FOR', 'Duration', 'DurationUnit']]\n"
          ]
        }
      ]
    },
    {
      "cell_type": "code",
      "metadata": {
        "id": "GWkojEf8WK4f",
        "colab": {
          "base_uri": "https://localhost:8080/"
        },
        "outputId": "5274aecf-225a-427d-e509-a6aec80feb7b"
      },
      "source": [
        "prediction = predict(\"with food take 3 tablets per day for 90 days\")"
      ],
      "execution_count": 39,
      "outputs": [
        {
          "output_type": "stream",
          "name": "stdout",
          "text": [
            "with food take 3 tablets per day for 90 days\n",
            "[['FOR', 'Duration', 'DurationUnit', 'Method', 'Qty', 'Form', 'Frequency', 'FOR', 'Duration', 'DurationUnit']]\n"
          ]
        }
      ]
    },
    {
      "cell_type": "code",
      "metadata": {
        "id": "E5xPtzKsWK4f",
        "colab": {
          "base_uri": "https://localhost:8080/"
        },
        "outputId": "c9cc4ab1-0df8-40df-ef3e-5af1406b2384"
      },
      "source": [
        "prediction = predict(\"with food take 3 tablets per week for 90 weeks\")"
      ],
      "execution_count": 40,
      "outputs": [
        {
          "output_type": "stream",
          "name": "stdout",
          "text": [
            "with food take 3 tablets per week for 90 weeks\n",
            "[['FOR', 'Duration', 'DurationUnit', 'Method', 'Qty', 'Form', 'Frequency', 'FOR', 'Duration', 'DurationUnit']]\n"
          ]
        }
      ]
    },
    {
      "cell_type": "code",
      "metadata": {
        "id": "dpI1E6ExWK4f",
        "colab": {
          "base_uri": "https://localhost:8080/"
        },
        "outputId": "a2ed723d-4279-47b5-a772-11a56987ea58"
      },
      "source": [
        "prediction = predict(\"take 2-4 tabs\")"
      ],
      "execution_count": 41,
      "outputs": [
        {
          "output_type": "stream",
          "name": "stdout",
          "text": [
            "take 2-4 tabs\n",
            "[['FOR', 'Duration', 'DurationUnit']]\n"
          ]
        }
      ]
    },
    {
      "cell_type": "code",
      "metadata": {
        "id": "f01jCdc2WK4f",
        "colab": {
          "base_uri": "https://localhost:8080/"
        },
        "outputId": "945478d1-4719-434a-e839-953fe03e68a3"
      },
      "source": [
        "prediction = predict(\"take 2 to 4 tabs\")"
      ],
      "execution_count": 42,
      "outputs": [
        {
          "output_type": "stream",
          "name": "stdout",
          "text": [
            "take 2 to 4 tabs\n",
            "[['FOR', 'Duration', 'DurationUnit', 'Qty', 'Form']]\n"
          ]
        }
      ]
    },
    {
      "cell_type": "code",
      "metadata": {
        "id": "1SeP_ZNZWK4g",
        "colab": {
          "base_uri": "https://localhost:8080/"
        },
        "outputId": "c2370188-ec59-4075-ae8a-86fbe07e6e10"
      },
      "source": [
        "prediction = predict(\"take two to four tabs\")"
      ],
      "execution_count": 43,
      "outputs": [
        {
          "output_type": "stream",
          "name": "stdout",
          "text": [
            "take two to four tabs\n",
            "[['FOR', 'Duration', 'DurationUnit', 'Qty', 'Form']]\n"
          ]
        }
      ]
    },
    {
      "cell_type": "code",
      "metadata": {
        "id": "Ww6Anq95WK4g",
        "colab": {
          "base_uri": "https://localhost:8080/"
        },
        "outputId": "496eaf22-44a6-46b4-e02c-41189e109c71"
      },
      "source": [
        "prediction = predict(\"take 2-4 tabs for 8 to 9 days\")"
      ],
      "execution_count": 44,
      "outputs": [
        {
          "output_type": "stream",
          "name": "stdout",
          "text": [
            "take 2-4 tabs for 8 to 9 days\n",
            "[['FOR', 'Duration', 'DurationUnit', 'Qty', 'Form', 'FOR', 'Duration', 'DurationUnit']]\n"
          ]
        }
      ]
    },
    {
      "cell_type": "code",
      "metadata": {
        "id": "ApPCzg8fWK4g",
        "colab": {
          "base_uri": "https://localhost:8080/"
        },
        "outputId": "defcae29-00b7-4ad2-8e83-80ce34506470"
      },
      "source": [
        "prediction = predict(\"take 20 tabs every 6 to 8 days\")"
      ],
      "execution_count": 45,
      "outputs": [
        {
          "output_type": "stream",
          "name": "stdout",
          "text": [
            "take 20 tabs every 6 to 8 days\n",
            "[['FOR', 'Duration', 'DurationUnit', 'Qty', 'Form', 'FOR', 'Duration', 'DurationUnit']]\n"
          ]
        }
      ]
    },
    {
      "cell_type": "code",
      "metadata": {
        "id": "CIOXiLT_WK4g",
        "colab": {
          "base_uri": "https://localhost:8080/"
        },
        "outputId": "a2101caa-8bef-4bf0-b9d9-d98f83964e0f"
      },
      "source": [
        "prediction = predict(\"take 2 tabs every 4 to 6 days\")"
      ],
      "execution_count": 46,
      "outputs": [
        {
          "output_type": "stream",
          "name": "stdout",
          "text": [
            "take 2 tabs every 4 to 6 days\n",
            "[['FOR', 'Duration', 'DurationUnit', 'Qty', 'Form', 'FOR', 'Duration', 'DurationUnit']]\n"
          ]
        }
      ]
    },
    {
      "cell_type": "code",
      "metadata": {
        "id": "EN5H4L03WK4h",
        "colab": {
          "base_uri": "https://localhost:8080/"
        },
        "outputId": "0c0349b3-19a6-468b-cf3f-2f3d168decb5"
      },
      "source": [
        "prediction = predict(\"take 2 tabs every 2 to 10 weeks\")"
      ],
      "execution_count": 47,
      "outputs": [
        {
          "output_type": "stream",
          "name": "stdout",
          "text": [
            "take 2 tabs every 2 to 10 weeks\n",
            "[['FOR', 'Duration', 'DurationUnit', 'Qty', 'Form', 'FOR', 'Duration', 'DurationUnit']]\n"
          ]
        }
      ]
    },
    {
      "cell_type": "code",
      "metadata": {
        "id": "_7M_NWDMWK4h",
        "colab": {
          "base_uri": "https://localhost:8080/"
        },
        "outputId": "c99b1817-477f-4251-cc5c-79c3cf4e5d86"
      },
      "source": [
        "prediction = predict(\"take 2 tabs every 4 to 6 days\")"
      ],
      "execution_count": 48,
      "outputs": [
        {
          "output_type": "stream",
          "name": "stdout",
          "text": [
            "take 2 tabs every 4 to 6 days\n",
            "[['FOR', 'Duration', 'DurationUnit', 'Qty', 'Form', 'FOR', 'Duration', 'DurationUnit']]\n"
          ]
        }
      ]
    },
    {
      "cell_type": "code",
      "metadata": {
        "id": "8EJ5DqN2WK4h",
        "colab": {
          "base_uri": "https://localhost:8080/"
        },
        "outputId": "06629485-bea2-47cd-fd65-1fd179d05394"
      },
      "source": [
        "prediction = predict(\"take 2 tabs every 2 to 10 months\")"
      ],
      "execution_count": 49,
      "outputs": [
        {
          "output_type": "stream",
          "name": "stdout",
          "text": [
            "take 2 tabs every 2 to 10 months\n",
            "[['FOR', 'Duration', 'DurationUnit', 'Qty', 'Form', 'FOR', 'Duration', 'DurationUnit']]\n"
          ]
        }
      ]
    },
    {
      "cell_type": "code",
      "metadata": {
        "id": "6R1IpOktWK4h",
        "colab": {
          "base_uri": "https://localhost:8080/"
        },
        "outputId": "3adc773d-2c16-4a38-f688-540af3bf42b2"
      },
      "source": [
        "prediction = predict(\"every 60 mins\")"
      ],
      "execution_count": 50,
      "outputs": [
        {
          "output_type": "stream",
          "name": "stdout",
          "text": [
            "every 60 mins\n",
            "[['FOR', 'Duration', 'DurationUnit']]\n"
          ]
        }
      ]
    },
    {
      "cell_type": "code",
      "metadata": {
        "id": "NZzpvFyJWK4h",
        "colab": {
          "base_uri": "https://localhost:8080/"
        },
        "outputId": "2887b69e-4979-4250-f779-ac0e67e6dfda"
      },
      "source": [
        "prediction = predict(\"every 10 mins\")"
      ],
      "execution_count": 51,
      "outputs": [
        {
          "output_type": "stream",
          "name": "stdout",
          "text": [
            "every 10 mins\n",
            "[['FOR', 'Duration', 'DurationUnit']]\n"
          ]
        }
      ]
    },
    {
      "cell_type": "code",
      "metadata": {
        "id": "IP2PhZseWK4i",
        "colab": {
          "base_uri": "https://localhost:8080/"
        },
        "outputId": "67386380-8ed9-4942-cc05-9a7ac44f4bc3"
      },
      "source": [
        "prediction = predict(\"every two to four months\")"
      ],
      "execution_count": 52,
      "outputs": [
        {
          "output_type": "stream",
          "name": "stdout",
          "text": [
            "every two to four months\n",
            "[['FOR', 'Duration', 'DurationUnit', 'Qty', 'Form']]\n"
          ]
        }
      ]
    },
    {
      "cell_type": "code",
      "metadata": {
        "id": "pZLsSG59WK4i",
        "colab": {
          "base_uri": "https://localhost:8080/"
        },
        "outputId": "89855ef9-c7b7-4ab0-959c-6cbaccc66151"
      },
      "source": [
        "prediction = predict(\"take 2 tabs every 3 to 4 days\")"
      ],
      "execution_count": 53,
      "outputs": [
        {
          "output_type": "stream",
          "name": "stdout",
          "text": [
            "take 2 tabs every 3 to 4 days\n",
            "[['FOR', 'Duration', 'DurationUnit', 'Qty', 'Form', 'FOR', 'Duration', 'DurationUnit']]\n"
          ]
        }
      ]
    },
    {
      "cell_type": "code",
      "metadata": {
        "id": "9CmT2qYWWK4i",
        "colab": {
          "base_uri": "https://localhost:8080/"
        },
        "outputId": "20bb624d-d3f7-4869-f662-2a0c64a50982"
      },
      "source": [
        "prediction = predict(\"every 3 to 4 days take 20 tabs\")"
      ],
      "execution_count": 54,
      "outputs": [
        {
          "output_type": "stream",
          "name": "stdout",
          "text": [
            "every 3 to 4 days take 20 tabs\n",
            "[['FOR', 'Duration', 'DurationUnit', 'Qty', 'Form', 'FOR', 'Duration', 'DurationUnit']]\n"
          ]
        }
      ]
    },
    {
      "cell_type": "code",
      "metadata": {
        "id": "fpufHO3mWK4i",
        "colab": {
          "base_uri": "https://localhost:8080/"
        },
        "outputId": "d3f1c56d-2b13-40e0-b582-10ea420866b5"
      },
      "source": [
        "prediction = predict(\"once in every 3 days take 3 tabs\")"
      ],
      "execution_count": 55,
      "outputs": [
        {
          "output_type": "stream",
          "name": "stdout",
          "text": [
            "once in every 3 days take 3 tabs\n",
            "[['FOR', 'Duration', 'DurationUnit', 'Qty', 'Form', 'FOR', 'Duration', 'DurationUnit']]\n"
          ]
        }
      ]
    },
    {
      "cell_type": "code",
      "metadata": {
        "id": "6UP7UukfWK4i",
        "colab": {
          "base_uri": "https://localhost:8080/"
        },
        "outputId": "3734372b-3823-4f95-fa10-1a0caa3206eb"
      },
      "source": [
        "prediction = predict(\"take 3 tabs once in every 3 days\")"
      ],
      "execution_count": 56,
      "outputs": [
        {
          "output_type": "stream",
          "name": "stdout",
          "text": [
            "take 3 tabs once in every 3 days\n",
            "[['FOR', 'Duration', 'DurationUnit', 'Qty', 'Form', 'FOR', 'Duration', 'DurationUnit']]\n"
          ]
        }
      ]
    },
    {
      "cell_type": "code",
      "metadata": {
        "id": "uo5aFxLQWK4i",
        "colab": {
          "base_uri": "https://localhost:8080/"
        },
        "outputId": "63d140a4-1f38-445d-ba53-170b16d7a21e"
      },
      "source": [
        "prediction = predict(\"orally take 20 tabs every 4-6 weeks\")"
      ],
      "execution_count": 57,
      "outputs": [
        {
          "output_type": "stream",
          "name": "stdout",
          "text": [
            "orally take 20 tabs every 4-6 weeks\n",
            "[['Method', 'Qty', 'Form', 'Frequency', 'FOR', 'Duration', 'DurationUnit']]\n"
          ]
        }
      ]
    },
    {
      "cell_type": "code",
      "metadata": {
        "id": "KiwIZgo4WK4j",
        "colab": {
          "base_uri": "https://localhost:8080/"
        },
        "outputId": "dacea785-fd62-4f84-a23e-4d7f3ec63d38"
      },
      "source": [
        "prediction = predict(\"10 tabs x 2 days\")"
      ],
      "execution_count": 58,
      "outputs": [
        {
          "output_type": "stream",
          "name": "stdout",
          "text": [
            "10 tabs x 2 days\n",
            "[['FOR', 'Duration', 'DurationUnit', 'Qty', 'Form']]\n"
          ]
        }
      ]
    },
    {
      "cell_type": "code",
      "metadata": {
        "id": "Jc1IFtaZWK4j",
        "colab": {
          "base_uri": "https://localhost:8080/"
        },
        "outputId": "8e183be4-8140-4696-991a-e78649730054"
      },
      "source": [
        "prediction = predict(\"3 capsule x 15 days\")"
      ],
      "execution_count": 59,
      "outputs": [
        {
          "output_type": "stream",
          "name": "stdout",
          "text": [
            "3 capsule x 15 days\n",
            "[['FOR', 'Duration', 'DurationUnit', 'Qty', 'Form']]\n"
          ]
        }
      ]
    },
    {
      "cell_type": "code",
      "metadata": {
        "id": "NQJo41XjWK4j",
        "colab": {
          "base_uri": "https://localhost:8080/"
        },
        "outputId": "87de4134-5cf5-478c-d715-b6e27dded8c1"
      },
      "source": [
        "prediction = predict(\"10 tabs\")"
      ],
      "execution_count": 60,
      "outputs": [
        {
          "output_type": "stream",
          "name": "stdout",
          "text": [
            "10 tabs\n",
            "[['Qty', 'Form']]\n"
          ]
        }
      ]
    }
  ]
}